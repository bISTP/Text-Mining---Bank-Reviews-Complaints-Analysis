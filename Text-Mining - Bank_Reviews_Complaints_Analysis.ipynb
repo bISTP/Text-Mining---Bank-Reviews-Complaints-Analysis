{
  "nbformat": 4,
  "nbformat_minor": 0,
  "metadata": {
    "colab": {
      "name": "5. Bank Reviews-Complaints Analysis.ipynb",
      "provenance": [],
      "collapsed_sections": []
    },
    "kernelspec": {
      "name": "python3",
      "display_name": "Python 3"
    },
    "language_info": {
      "name": "python"
    }
  },
  "cells": [
    {
      "cell_type": "markdown",
      "source": [
        "# Importing Necessary Libraries"
      ],
      "metadata": {
        "id": "Nlc8yciNLuWZ"
      }
    },
    {
      "cell_type": "code",
      "source": [
        "import numpy as np\n",
        "import pandas as pd\n",
        "import matplotlib.pyplot as plt\n",
        "import seaborn as sns\n",
        "%matplotlib inline\n",
        "import warnings\n",
        "warnings.filterwarnings(\"ignore\")"
      ],
      "metadata": {
        "id": "mt3yWdi53y_b"
      },
      "execution_count": 1,
      "outputs": []
    },
    {
      "cell_type": "code",
      "source": [
        "import re\n",
        "import string\n",
        "import nltk\n",
        "from nltk.corpus import stopwords\n",
        "from nltk.stem.wordnet import WordNetLemmatizer\n",
        "from sklearn.feature_extraction.text import TfidfVectorizer, CountVectorizer\n",
        "from textblob import TextBlob\n",
        "from nltk.stem import PorterStemmer\n",
        "from nltk.sentiment.vader import SentimentIntensityAnalyzer"
      ],
      "metadata": {
        "id": "fZOAVvFA7Rzx"
      },
      "execution_count": 2,
      "outputs": []
    },
    {
      "cell_type": "code",
      "source": [
        "from sklearn.metrics import roc_curve\n",
        "from sklearn.cluster import KMeans\n",
        "from sklearn.metrics import accuracy_score, roc_auc_score, confusion_matrix, classification_report\n",
        "from sklearn.model_selection import train_test_split\n",
        "from sklearn.decomposition import LatentDirichletAllocation\n",
        "from sklearn.linear_model import LogisticRegression\n",
        "from sklearn.svm import SVC\n",
        "from sklearn.naive_bayes import BernoulliNB\n",
        "from imblearn.over_sampling import RandomOverSampler"
      ],
      "metadata": {
        "id": "FWXgRwT3F9nr"
      },
      "execution_count": 40,
      "outputs": []
    },
    {
      "cell_type": "code",
      "source": [
        "plt.rc('font', size=15)"
      ],
      "metadata": {
        "id": "5ni71bsEjHx-"
      },
      "execution_count": 4,
      "outputs": []
    },
    {
      "cell_type": "code",
      "source": [
        "nltk.download('stopwords')\n",
        "nltk.download('vader_lexicon')"
      ],
      "metadata": {
        "colab": {
          "base_uri": "https://localhost:8080/"
        },
        "id": "ewXoG_VF7t9P",
        "outputId": "37dd70b5-f60b-4f51-f5c1-4a71eaa3fa8e"
      },
      "execution_count": 5,
      "outputs": [
        {
          "output_type": "stream",
          "name": "stdout",
          "text": [
            "[nltk_data] Downloading package stopwords to /root/nltk_data...\n",
            "[nltk_data]   Unzipping corpora/stopwords.zip.\n",
            "[nltk_data] Downloading package vader_lexicon to /root/nltk_data...\n"
          ]
        },
        {
          "output_type": "execute_result",
          "data": {
            "text/plain": [
              "True"
            ]
          },
          "metadata": {},
          "execution_count": 5
        }
      ]
    },
    {
      "cell_type": "markdown",
      "source": [
        "# Importing Input Dataset"
      ],
      "metadata": {
        "id": "PVmE8eCcB5nZ"
      }
    },
    {
      "cell_type": "code",
      "source": [
        "df = pd.read_excel('/content/drive/MyDrive/Colab Notebooks/5. Bank Reviews-Complaints Analysis/BankReviews.xlsx')"
      ],
      "metadata": {
        "id": "4uVlNhBo30h6"
      },
      "execution_count": 6,
      "outputs": []
    },
    {
      "cell_type": "markdown",
      "source": [
        "# Data Inspection"
      ],
      "metadata": {
        "id": "ke3IyTH5B9On"
      }
    },
    {
      "cell_type": "code",
      "source": [
        "df.head()"
      ],
      "metadata": {
        "colab": {
          "base_uri": "https://localhost:8080/",
          "height": 206
        },
        "id": "VhTe5sv44gGX",
        "outputId": "d6d8f5d3-c484-43e8-eea8-8865a785ea2b"
      },
      "execution_count": null,
      "outputs": [
        {
          "output_type": "execute_result",
          "data": {
            "text/html": [
              "\n",
              "  <div id=\"df-fa4a5830-b079-4cce-b425-2fd3ab11c387\">\n",
              "    <div class=\"colab-df-container\">\n",
              "      <div>\n",
              "<style scoped>\n",
              "    .dataframe tbody tr th:only-of-type {\n",
              "        vertical-align: middle;\n",
              "    }\n",
              "\n",
              "    .dataframe tbody tr th {\n",
              "        vertical-align: top;\n",
              "    }\n",
              "\n",
              "    .dataframe thead th {\n",
              "        text-align: right;\n",
              "    }\n",
              "</style>\n",
              "<table border=\"1\" class=\"dataframe\">\n",
              "  <thead>\n",
              "    <tr style=\"text-align: right;\">\n",
              "      <th></th>\n",
              "      <th>Date</th>\n",
              "      <th>Stars</th>\n",
              "      <th>Reviews</th>\n",
              "      <th>BankName</th>\n",
              "    </tr>\n",
              "  </thead>\n",
              "  <tbody>\n",
              "    <tr>\n",
              "      <th>0</th>\n",
              "      <td>2017-04-10</td>\n",
              "      <td>5</td>\n",
              "      <td>Great job, Wyndham Capital! Each person was pr...</td>\n",
              "      <td>Wyndham Capital Mortgage</td>\n",
              "    </tr>\n",
              "    <tr>\n",
              "      <th>1</th>\n",
              "      <td>2017-02-10</td>\n",
              "      <td>5</td>\n",
              "      <td>Matthew Richardson is professional and helpful...</td>\n",
              "      <td>Wyndham Capital Mortgage</td>\n",
              "    </tr>\n",
              "    <tr>\n",
              "      <th>2</th>\n",
              "      <td>2017-08-21</td>\n",
              "      <td>5</td>\n",
              "      <td>We had a past experience with Wyndham Mortgage...</td>\n",
              "      <td>Wyndham Capital Mortgage</td>\n",
              "    </tr>\n",
              "    <tr>\n",
              "      <th>3</th>\n",
              "      <td>2017-12-17</td>\n",
              "      <td>5</td>\n",
              "      <td>We have been dealing with Brad Thomka from the...</td>\n",
              "      <td>Wyndham Capital Mortgage</td>\n",
              "    </tr>\n",
              "    <tr>\n",
              "      <th>4</th>\n",
              "      <td>2016-05-27</td>\n",
              "      <td>5</td>\n",
              "      <td>I can't express how grateful I am for the supp...</td>\n",
              "      <td>Wyndham Capital Mortgage</td>\n",
              "    </tr>\n",
              "  </tbody>\n",
              "</table>\n",
              "</div>\n",
              "      <button class=\"colab-df-convert\" onclick=\"convertToInteractive('df-fa4a5830-b079-4cce-b425-2fd3ab11c387')\"\n",
              "              title=\"Convert this dataframe to an interactive table.\"\n",
              "              style=\"display:none;\">\n",
              "        \n",
              "  <svg xmlns=\"http://www.w3.org/2000/svg\" height=\"24px\"viewBox=\"0 0 24 24\"\n",
              "       width=\"24px\">\n",
              "    <path d=\"M0 0h24v24H0V0z\" fill=\"none\"/>\n",
              "    <path d=\"M18.56 5.44l.94 2.06.94-2.06 2.06-.94-2.06-.94-.94-2.06-.94 2.06-2.06.94zm-11 1L8.5 8.5l.94-2.06 2.06-.94-2.06-.94L8.5 2.5l-.94 2.06-2.06.94zm10 10l.94 2.06.94-2.06 2.06-.94-2.06-.94-.94-2.06-.94 2.06-2.06.94z\"/><path d=\"M17.41 7.96l-1.37-1.37c-.4-.4-.92-.59-1.43-.59-.52 0-1.04.2-1.43.59L10.3 9.45l-7.72 7.72c-.78.78-.78 2.05 0 2.83L4 21.41c.39.39.9.59 1.41.59.51 0 1.02-.2 1.41-.59l7.78-7.78 2.81-2.81c.8-.78.8-2.07 0-2.86zM5.41 20L4 18.59l7.72-7.72 1.47 1.35L5.41 20z\"/>\n",
              "  </svg>\n",
              "      </button>\n",
              "      \n",
              "  <style>\n",
              "    .colab-df-container {\n",
              "      display:flex;\n",
              "      flex-wrap:wrap;\n",
              "      gap: 12px;\n",
              "    }\n",
              "\n",
              "    .colab-df-convert {\n",
              "      background-color: #E8F0FE;\n",
              "      border: none;\n",
              "      border-radius: 50%;\n",
              "      cursor: pointer;\n",
              "      display: none;\n",
              "      fill: #1967D2;\n",
              "      height: 32px;\n",
              "      padding: 0 0 0 0;\n",
              "      width: 32px;\n",
              "    }\n",
              "\n",
              "    .colab-df-convert:hover {\n",
              "      background-color: #E2EBFA;\n",
              "      box-shadow: 0px 1px 2px rgba(60, 64, 67, 0.3), 0px 1px 3px 1px rgba(60, 64, 67, 0.15);\n",
              "      fill: #174EA6;\n",
              "    }\n",
              "\n",
              "    [theme=dark] .colab-df-convert {\n",
              "      background-color: #3B4455;\n",
              "      fill: #D2E3FC;\n",
              "    }\n",
              "\n",
              "    [theme=dark] .colab-df-convert:hover {\n",
              "      background-color: #434B5C;\n",
              "      box-shadow: 0px 1px 3px 1px rgba(0, 0, 0, 0.15);\n",
              "      filter: drop-shadow(0px 1px 2px rgba(0, 0, 0, 0.3));\n",
              "      fill: #FFFFFF;\n",
              "    }\n",
              "  </style>\n",
              "\n",
              "      <script>\n",
              "        const buttonEl =\n",
              "          document.querySelector('#df-fa4a5830-b079-4cce-b425-2fd3ab11c387 button.colab-df-convert');\n",
              "        buttonEl.style.display =\n",
              "          google.colab.kernel.accessAllowed ? 'block' : 'none';\n",
              "\n",
              "        async function convertToInteractive(key) {\n",
              "          const element = document.querySelector('#df-fa4a5830-b079-4cce-b425-2fd3ab11c387');\n",
              "          const dataTable =\n",
              "            await google.colab.kernel.invokeFunction('convertToInteractive',\n",
              "                                                     [key], {});\n",
              "          if (!dataTable) return;\n",
              "\n",
              "          const docLinkHtml = 'Like what you see? Visit the ' +\n",
              "            '<a target=\"_blank\" href=https://colab.research.google.com/notebooks/data_table.ipynb>data table notebook</a>'\n",
              "            + ' to learn more about interactive tables.';\n",
              "          element.innerHTML = '';\n",
              "          dataTable['output_type'] = 'display_data';\n",
              "          await google.colab.output.renderOutput(dataTable, element);\n",
              "          const docLink = document.createElement('div');\n",
              "          docLink.innerHTML = docLinkHtml;\n",
              "          element.appendChild(docLink);\n",
              "        }\n",
              "      </script>\n",
              "    </div>\n",
              "  </div>\n",
              "  "
            ],
            "text/plain": [
              "        Date  ...                  BankName\n",
              "0 2017-04-10  ...  Wyndham Capital Mortgage\n",
              "1 2017-02-10  ...  Wyndham Capital Mortgage\n",
              "2 2017-08-21  ...  Wyndham Capital Mortgage\n",
              "3 2017-12-17  ...  Wyndham Capital Mortgage\n",
              "4 2016-05-27  ...  Wyndham Capital Mortgage\n",
              "\n",
              "[5 rows x 4 columns]"
            ]
          },
          "metadata": {},
          "execution_count": 7
        }
      ]
    },
    {
      "cell_type": "code",
      "source": [
        "df.shape"
      ],
      "metadata": {
        "colab": {
          "base_uri": "https://localhost:8080/"
        },
        "id": "HN8xCHfU4heW",
        "outputId": "0030b2b9-e0c9-4731-8195-d147118a4a6a"
      },
      "execution_count": null,
      "outputs": [
        {
          "output_type": "execute_result",
          "data": {
            "text/plain": [
              "(505, 4)"
            ]
          },
          "metadata": {},
          "execution_count": 8
        }
      ]
    },
    {
      "cell_type": "code",
      "source": [
        "df.info()"
      ],
      "metadata": {
        "colab": {
          "base_uri": "https://localhost:8080/"
        },
        "id": "wN6i3BYt4i0m",
        "outputId": "7d6fcac4-de9a-4204-c810-523cef8af981"
      },
      "execution_count": null,
      "outputs": [
        {
          "output_type": "stream",
          "name": "stdout",
          "text": [
            "<class 'pandas.core.frame.DataFrame'>\n",
            "RangeIndex: 505 entries, 0 to 504\n",
            "Data columns (total 4 columns):\n",
            " #   Column    Non-Null Count  Dtype         \n",
            "---  ------    --------------  -----         \n",
            " 0   Date      505 non-null    datetime64[ns]\n",
            " 1   Stars     505 non-null    int64         \n",
            " 2   Reviews   505 non-null    object        \n",
            " 3   BankName  505 non-null    object        \n",
            "dtypes: datetime64[ns](1), int64(1), object(2)\n",
            "memory usage: 15.9+ KB\n"
          ]
        }
      ]
    },
    {
      "cell_type": "code",
      "source": [
        "df.Stars.value_counts()"
      ],
      "metadata": {
        "colab": {
          "base_uri": "https://localhost:8080/"
        },
        "id": "7hGNhkfo8FlQ",
        "outputId": "1d5a8dc2-01ec-41dc-f0cb-9f1591e2afca"
      },
      "execution_count": null,
      "outputs": [
        {
          "output_type": "execute_result",
          "data": {
            "text/plain": [
              "5    410\n",
              "1     95\n",
              "Name: Stars, dtype: int64"
            ]
          },
          "metadata": {},
          "execution_count": 10
        }
      ]
    },
    {
      "cell_type": "code",
      "source": [
        "df.BankName.value_counts()"
      ],
      "metadata": {
        "colab": {
          "base_uri": "https://localhost:8080/"
        },
        "id": "zlEJtT3S8Me_",
        "outputId": "b01a3cf5-1edb-4855-c12a-33bf27427e38"
      },
      "execution_count": null,
      "outputs": [
        {
          "output_type": "execute_result",
          "data": {
            "text/plain": [
              "North American Savings Bank       193\n",
              "Guarenteed Rate Inc                81\n",
              "Triumph Lending                    60\n",
              "Reliance First Capital             58\n",
              "Pacific Beneficial Mortgage Co     51\n",
              "LoanSnap                           40\n",
              "Wyndham Capital Mortgage           22\n",
              "Name: BankName, dtype: int64"
            ]
          },
          "metadata": {},
          "execution_count": 11
        }
      ]
    },
    {
      "cell_type": "markdown",
      "source": [
        "#### Creating a copy of the data to make necessary changes on."
      ],
      "metadata": {
        "id": "ctm3E4wOC5GI"
      }
    },
    {
      "cell_type": "code",
      "source": [
        "data = df.copy()"
      ],
      "metadata": {
        "id": "aePL-5cHbVDk"
      },
      "execution_count": 7,
      "outputs": []
    },
    {
      "cell_type": "markdown",
      "source": [
        "#### 'Date' and 'BankName' are insignificant, so we are going to drop them."
      ],
      "metadata": {
        "id": "-_QdkcBkCsbm"
      }
    },
    {
      "cell_type": "code",
      "source": [
        "data.drop(columns=['Date', 'BankName'], inplace=True)"
      ],
      "metadata": {
        "id": "RnHZIHfxb_2S"
      },
      "execution_count": 8,
      "outputs": []
    },
    {
      "cell_type": "markdown",
      "source": [
        "# Data PreParation"
      ],
      "metadata": {
        "id": "sdp2VDmfBAIW"
      }
    },
    {
      "cell_type": "markdown",
      "source": [
        "#### UDF to clean the text - lowercasing, remvoving extra spaces, remvoing symbols etc."
      ],
      "metadata": {
        "id": "lkfQeI7MCH_5"
      }
    },
    {
      "cell_type": "code",
      "source": [
        "def clean_text(text):\n",
        "    text = text.lower() \n",
        "    text = text.strip()\n",
        "    text = re.sub(r' +', ' ', text)\n",
        "    text = re.sub(r\"[-()\\\"#/@;:{}`+=~|.!?,'0-9]\", \"\", text)\n",
        "    return(text)"
      ],
      "metadata": {
        "id": "QG9zUR04crxh"
      },
      "execution_count": 9,
      "outputs": []
    },
    {
      "cell_type": "code",
      "source": [
        "eng_stopwords = set(stopwords.words(\"english\"))"
      ],
      "metadata": {
        "id": "5TQI4SgJdiXd"
      },
      "execution_count": 10,
      "outputs": []
    },
    {
      "cell_type": "markdown",
      "source": [
        "#### UDF to remove the stop words"
      ],
      "metadata": {
        "id": "NCpnJnFYCZv3"
      }
    },
    {
      "cell_type": "code",
      "source": [
        "def stop_remover(text):\n",
        "    text = text.apply(lambda x: \" \".join(x for x in x.split() if x not in eng_stopwords))\n",
        "    return(text)"
      ],
      "metadata": {
        "id": "FrrqHxMgdfWP"
      },
      "execution_count": 11,
      "outputs": []
    },
    {
      "cell_type": "code",
      "source": [
        "data['Reviews'] = data['Reviews'].apply(lambda x: clean_text(x))"
      ],
      "metadata": {
        "id": "UKPZ8kjycrxi"
      },
      "execution_count": 12,
      "outputs": []
    },
    {
      "cell_type": "code",
      "source": [
        "data['Reviews'] = stop_remover(data['Reviews'])"
      ],
      "metadata": {
        "id": "XJxi5ZhtCF6S"
      },
      "execution_count": 13,
      "outputs": []
    },
    {
      "cell_type": "code",
      "source": [
        "data.Reviews.head(10)"
      ],
      "metadata": {
        "colab": {
          "base_uri": "https://localhost:8080/"
        },
        "id": "e-TGgnvIeJ3c",
        "outputId": "4f090098-9a8b-4765-e85a-cc675ae742ea"
      },
      "execution_count": 14,
      "outputs": [
        {
          "output_type": "execute_result",
          "data": {
            "text/plain": [
              "0    great job wyndham capital person professional ...\n",
              "1    matthew richardson professional helpful helped...\n",
              "2    past experience wyndham mortgage would without...\n",
              "3    dealing brad thomka beginning started stressfu...\n",
              "4    cant express grateful support zach provided fa...\n",
              "5    pleasure working wyndham capital september fam...\n",
              "6    experience mattison beyond greatly professiona...\n",
              "7    patrick answered questions email immediately s...\n",
              "8    loved working group people laughed phone alway...\n",
              "9    great web interface loan application document ...\n",
              "Name: Reviews, dtype: object"
            ]
          },
          "metadata": {},
          "execution_count": 14
        }
      ]
    },
    {
      "cell_type": "markdown",
      "source": [
        "There are still many words left in the reviews which are just mentions of the respective bank name. First, we we will find all the words from bankname variable along with their acronyms."
      ],
      "metadata": {
        "id": "HElN0YleJP6b"
      }
    },
    {
      "cell_type": "code",
      "source": [
        "bank_words = []\n",
        "for sentence in list(df.BankName.value_counts().index):\n",
        "  acro = ''\n",
        "  for word in sentence.split():\n",
        "    bank_words.append(word.lower())\n",
        "    acro += word[0]\n",
        "  bank_words.append(acro.lower())"
      ],
      "metadata": {
        "id": "P0wfLzGkeo5L"
      },
      "execution_count": 15,
      "outputs": []
    },
    {
      "cell_type": "code",
      "source": [
        "print(bank_words)"
      ],
      "metadata": {
        "colab": {
          "base_uri": "https://localhost:8080/"
        },
        "id": "4824yGIUJ_h6",
        "outputId": "a40721ae-2599-4d6b-f348-8edea7593e9b"
      },
      "execution_count": 16,
      "outputs": [
        {
          "output_type": "stream",
          "name": "stdout",
          "text": [
            "['north', 'american', 'savings', 'bank', 'nasb', 'guarenteed', 'rate', 'inc', 'gri', 'triumph', 'lending', 'tl', 'reliance', 'first', 'capital', 'rfc', 'pacific', 'beneficial', 'mortgage', 'co', 'pbmc', 'loansnap', 'l', 'wyndham', 'capital', 'mortgage', 'wcm']\n"
          ]
        }
      ]
    },
    {
      "cell_type": "markdown",
      "source": [
        "Removing words from the 'bank-words' list which are common and can be used in other context than the bank name only. So we can keep them as hey are, in the data."
      ],
      "metadata": {
        "id": "Pacp4yhEKCqo"
      }
    },
    {
      "cell_type": "code",
      "source": [
        "bank_words.remove('first')\n",
        "bank_words.remove('lending')"
      ],
      "metadata": {
        "id": "ybP23tfWKMUn"
      },
      "execution_count": 17,
      "outputs": []
    },
    {
      "cell_type": "markdown",
      "source": [
        "#### Removing these bank words from the corpus"
      ],
      "metadata": {
        "id": "b4RtVVTNKwM2"
      }
    },
    {
      "cell_type": "code",
      "source": [
        "data.Reviews = data.Reviews.apply(lambda x: \" \".join(x for x in x.split() if x not in bank_words))"
      ],
      "metadata": {
        "id": "EYqRF9k3K1hG"
      },
      "execution_count": 18,
      "outputs": []
    },
    {
      "cell_type": "markdown",
      "source": [
        "# Key Positive/Negative Words Tagging\n",
        "\n",
        "#### using SentimentIntensityAnalyzer from nltk."
      ],
      "metadata": {
        "id": "fRx6CVJAaXwY"
      }
    },
    {
      "cell_type": "markdown",
      "source": [
        "#### Creating a TF DTM ( Word Level Unigram )"
      ],
      "metadata": {
        "id": "pN8s5_trDn0d"
      }
    },
    {
      "cell_type": "code",
      "source": [
        "count_vect = CountVectorizer(analyzer='word', token_pattern=r'\\w{1,}', ngram_range=(1,1))"
      ],
      "metadata": {
        "id": "_WXJOJCfen59"
      },
      "execution_count": null,
      "outputs": []
    },
    {
      "cell_type": "code",
      "source": [
        "data_count = count_vect.fit_transform(data.Reviews)\n",
        "data_count"
      ],
      "metadata": {
        "id": "fZbYq-DKMw7R",
        "colab": {
          "base_uri": "https://localhost:8080/"
        },
        "outputId": "ad7414af-7ad8-4b7d-bcd8-f5266dce9c32"
      },
      "execution_count": null,
      "outputs": [
        {
          "output_type": "execute_result",
          "data": {
            "text/plain": [
              "<505x2590 sparse matrix of type '<class 'numpy.int64'>'\n",
              "\twith 16761 stored elements in Compressed Sparse Row format>"
            ]
          },
          "metadata": {},
          "execution_count": 20
        }
      ]
    },
    {
      "cell_type": "code",
      "source": [
        "data_dtm = pd.DataFrame(data_count.toarray(), columns=count_vect.get_feature_names())\n",
        "data_dtm.head()"
      ],
      "metadata": {
        "colab": {
          "base_uri": "https://localhost:8080/",
          "height": 300
        },
        "id": "ExYxKb5QMxFC",
        "outputId": "013e1b57-5704-4008-f821-efd837af3591"
      },
      "execution_count": null,
      "outputs": [
        {
          "output_type": "execute_result",
          "data": {
            "text/html": [
              "\n",
              "  <div id=\"df-d6eb1d3e-1e3d-419b-9ffd-9664cb9f2e77\">\n",
              "    <div class=\"colab-df-container\">\n",
              "      <div>\n",
              "<style scoped>\n",
              "    .dataframe tbody tr th:only-of-type {\n",
              "        vertical-align: middle;\n",
              "    }\n",
              "\n",
              "    .dataframe tbody tr th {\n",
              "        vertical-align: top;\n",
              "    }\n",
              "\n",
              "    .dataframe thead th {\n",
              "        text-align: right;\n",
              "    }\n",
              "</style>\n",
              "<table border=\"1\" class=\"dataframe\">\n",
              "  <thead>\n",
              "    <tr style=\"text-align: right;\">\n",
              "      <th></th>\n",
              "      <th>aaron</th>\n",
              "      <th>aarons</th>\n",
              "      <th>ability</th>\n",
              "      <th>able</th>\n",
              "      <th>absoltely</th>\n",
              "      <th>absolute</th>\n",
              "      <th>absolutely</th>\n",
              "      <th>accept</th>\n",
              "      <th>acceptable</th>\n",
              "      <th>accepted</th>\n",
              "      <th>access</th>\n",
              "      <th>accessible</th>\n",
              "      <th>accommodate</th>\n",
              "      <th>accommodating</th>\n",
              "      <th>accomplished</th>\n",
              "      <th>account</th>\n",
              "      <th>accountant</th>\n",
              "      <th>accross</th>\n",
              "      <th>accurate</th>\n",
              "      <th>accurately</th>\n",
              "      <th>accusing</th>\n",
              "      <th>achieve</th>\n",
              "      <th>acquire</th>\n",
              "      <th>acquired</th>\n",
              "      <th>across</th>\n",
              "      <th>act</th>\n",
              "      <th>action</th>\n",
              "      <th>actual</th>\n",
              "      <th>actually</th>\n",
              "      <th>adam</th>\n",
              "      <th>adaml</th>\n",
              "      <th>adampac</th>\n",
              "      <th>adan</th>\n",
              "      <th>added</th>\n",
              "      <th>addedconsolidationit</th>\n",
              "      <th>addition</th>\n",
              "      <th>additional</th>\n",
              "      <th>address</th>\n",
              "      <th>addressed</th>\n",
              "      <th>addressresolve</th>\n",
              "      <th>...</th>\n",
              "      <th>wonderful</th>\n",
              "      <th>wonderfully</th>\n",
              "      <th>wont</th>\n",
              "      <th>word</th>\n",
              "      <th>words</th>\n",
              "      <th>work</th>\n",
              "      <th>worked</th>\n",
              "      <th>working</th>\n",
              "      <th>works</th>\n",
              "      <th>workwe</th>\n",
              "      <th>world</th>\n",
              "      <th>worry</th>\n",
              "      <th>worrying</th>\n",
              "      <th>worse</th>\n",
              "      <th>worst</th>\n",
              "      <th>worth</th>\n",
              "      <th>would</th>\n",
              "      <th>wouldn</th>\n",
              "      <th>wouldnt</th>\n",
              "      <th>wow</th>\n",
              "      <th>write</th>\n",
              "      <th>writing</th>\n",
              "      <th>written</th>\n",
              "      <th>wrong</th>\n",
              "      <th>ws</th>\n",
              "      <th>wyndham</th>\n",
              "      <th>wyndum</th>\n",
              "      <th>xx</th>\n",
              "      <th>y</th>\n",
              "      <th>year</th>\n",
              "      <th>years</th>\n",
              "      <th>yelp</th>\n",
              "      <th>yep</th>\n",
              "      <th>yes</th>\n",
              "      <th>yet</th>\n",
              "      <th>you</th>\n",
              "      <th>youi</th>\n",
              "      <th>zach</th>\n",
              "      <th>zelada</th>\n",
              "      <th>zero</th>\n",
              "    </tr>\n",
              "  </thead>\n",
              "  <tbody>\n",
              "    <tr>\n",
              "      <th>0</th>\n",
              "      <td>0</td>\n",
              "      <td>0</td>\n",
              "      <td>0</td>\n",
              "      <td>0</td>\n",
              "      <td>0</td>\n",
              "      <td>0</td>\n",
              "      <td>0</td>\n",
              "      <td>0</td>\n",
              "      <td>0</td>\n",
              "      <td>0</td>\n",
              "      <td>0</td>\n",
              "      <td>0</td>\n",
              "      <td>0</td>\n",
              "      <td>0</td>\n",
              "      <td>0</td>\n",
              "      <td>0</td>\n",
              "      <td>0</td>\n",
              "      <td>0</td>\n",
              "      <td>0</td>\n",
              "      <td>0</td>\n",
              "      <td>0</td>\n",
              "      <td>0</td>\n",
              "      <td>0</td>\n",
              "      <td>0</td>\n",
              "      <td>0</td>\n",
              "      <td>0</td>\n",
              "      <td>0</td>\n",
              "      <td>0</td>\n",
              "      <td>0</td>\n",
              "      <td>0</td>\n",
              "      <td>0</td>\n",
              "      <td>0</td>\n",
              "      <td>0</td>\n",
              "      <td>0</td>\n",
              "      <td>0</td>\n",
              "      <td>0</td>\n",
              "      <td>0</td>\n",
              "      <td>0</td>\n",
              "      <td>0</td>\n",
              "      <td>0</td>\n",
              "      <td>...</td>\n",
              "      <td>0</td>\n",
              "      <td>0</td>\n",
              "      <td>0</td>\n",
              "      <td>0</td>\n",
              "      <td>0</td>\n",
              "      <td>0</td>\n",
              "      <td>0</td>\n",
              "      <td>0</td>\n",
              "      <td>0</td>\n",
              "      <td>0</td>\n",
              "      <td>0</td>\n",
              "      <td>0</td>\n",
              "      <td>0</td>\n",
              "      <td>0</td>\n",
              "      <td>0</td>\n",
              "      <td>0</td>\n",
              "      <td>0</td>\n",
              "      <td>0</td>\n",
              "      <td>0</td>\n",
              "      <td>0</td>\n",
              "      <td>0</td>\n",
              "      <td>0</td>\n",
              "      <td>0</td>\n",
              "      <td>0</td>\n",
              "      <td>0</td>\n",
              "      <td>1</td>\n",
              "      <td>0</td>\n",
              "      <td>0</td>\n",
              "      <td>0</td>\n",
              "      <td>0</td>\n",
              "      <td>0</td>\n",
              "      <td>0</td>\n",
              "      <td>0</td>\n",
              "      <td>0</td>\n",
              "      <td>0</td>\n",
              "      <td>0</td>\n",
              "      <td>0</td>\n",
              "      <td>0</td>\n",
              "      <td>0</td>\n",
              "      <td>0</td>\n",
              "    </tr>\n",
              "    <tr>\n",
              "      <th>1</th>\n",
              "      <td>0</td>\n",
              "      <td>0</td>\n",
              "      <td>0</td>\n",
              "      <td>0</td>\n",
              "      <td>0</td>\n",
              "      <td>0</td>\n",
              "      <td>0</td>\n",
              "      <td>0</td>\n",
              "      <td>0</td>\n",
              "      <td>0</td>\n",
              "      <td>0</td>\n",
              "      <td>0</td>\n",
              "      <td>0</td>\n",
              "      <td>0</td>\n",
              "      <td>0</td>\n",
              "      <td>0</td>\n",
              "      <td>0</td>\n",
              "      <td>0</td>\n",
              "      <td>0</td>\n",
              "      <td>0</td>\n",
              "      <td>0</td>\n",
              "      <td>0</td>\n",
              "      <td>0</td>\n",
              "      <td>0</td>\n",
              "      <td>0</td>\n",
              "      <td>0</td>\n",
              "      <td>0</td>\n",
              "      <td>0</td>\n",
              "      <td>0</td>\n",
              "      <td>0</td>\n",
              "      <td>0</td>\n",
              "      <td>0</td>\n",
              "      <td>0</td>\n",
              "      <td>0</td>\n",
              "      <td>0</td>\n",
              "      <td>0</td>\n",
              "      <td>0</td>\n",
              "      <td>0</td>\n",
              "      <td>0</td>\n",
              "      <td>0</td>\n",
              "      <td>...</td>\n",
              "      <td>0</td>\n",
              "      <td>0</td>\n",
              "      <td>0</td>\n",
              "      <td>0</td>\n",
              "      <td>0</td>\n",
              "      <td>0</td>\n",
              "      <td>0</td>\n",
              "      <td>0</td>\n",
              "      <td>0</td>\n",
              "      <td>0</td>\n",
              "      <td>0</td>\n",
              "      <td>0</td>\n",
              "      <td>0</td>\n",
              "      <td>0</td>\n",
              "      <td>0</td>\n",
              "      <td>0</td>\n",
              "      <td>0</td>\n",
              "      <td>0</td>\n",
              "      <td>0</td>\n",
              "      <td>0</td>\n",
              "      <td>0</td>\n",
              "      <td>0</td>\n",
              "      <td>0</td>\n",
              "      <td>0</td>\n",
              "      <td>0</td>\n",
              "      <td>0</td>\n",
              "      <td>0</td>\n",
              "      <td>0</td>\n",
              "      <td>0</td>\n",
              "      <td>0</td>\n",
              "      <td>0</td>\n",
              "      <td>0</td>\n",
              "      <td>0</td>\n",
              "      <td>0</td>\n",
              "      <td>0</td>\n",
              "      <td>0</td>\n",
              "      <td>0</td>\n",
              "      <td>0</td>\n",
              "      <td>0</td>\n",
              "      <td>0</td>\n",
              "    </tr>\n",
              "    <tr>\n",
              "      <th>2</th>\n",
              "      <td>0</td>\n",
              "      <td>0</td>\n",
              "      <td>0</td>\n",
              "      <td>0</td>\n",
              "      <td>0</td>\n",
              "      <td>0</td>\n",
              "      <td>0</td>\n",
              "      <td>0</td>\n",
              "      <td>0</td>\n",
              "      <td>0</td>\n",
              "      <td>0</td>\n",
              "      <td>0</td>\n",
              "      <td>0</td>\n",
              "      <td>0</td>\n",
              "      <td>0</td>\n",
              "      <td>0</td>\n",
              "      <td>0</td>\n",
              "      <td>0</td>\n",
              "      <td>0</td>\n",
              "      <td>0</td>\n",
              "      <td>0</td>\n",
              "      <td>0</td>\n",
              "      <td>0</td>\n",
              "      <td>0</td>\n",
              "      <td>0</td>\n",
              "      <td>0</td>\n",
              "      <td>0</td>\n",
              "      <td>0</td>\n",
              "      <td>0</td>\n",
              "      <td>0</td>\n",
              "      <td>0</td>\n",
              "      <td>0</td>\n",
              "      <td>0</td>\n",
              "      <td>0</td>\n",
              "      <td>0</td>\n",
              "      <td>0</td>\n",
              "      <td>0</td>\n",
              "      <td>0</td>\n",
              "      <td>0</td>\n",
              "      <td>0</td>\n",
              "      <td>...</td>\n",
              "      <td>0</td>\n",
              "      <td>0</td>\n",
              "      <td>0</td>\n",
              "      <td>0</td>\n",
              "      <td>0</td>\n",
              "      <td>0</td>\n",
              "      <td>0</td>\n",
              "      <td>0</td>\n",
              "      <td>0</td>\n",
              "      <td>0</td>\n",
              "      <td>0</td>\n",
              "      <td>0</td>\n",
              "      <td>0</td>\n",
              "      <td>0</td>\n",
              "      <td>0</td>\n",
              "      <td>0</td>\n",
              "      <td>2</td>\n",
              "      <td>0</td>\n",
              "      <td>0</td>\n",
              "      <td>0</td>\n",
              "      <td>0</td>\n",
              "      <td>0</td>\n",
              "      <td>0</td>\n",
              "      <td>1</td>\n",
              "      <td>0</td>\n",
              "      <td>4</td>\n",
              "      <td>0</td>\n",
              "      <td>0</td>\n",
              "      <td>0</td>\n",
              "      <td>0</td>\n",
              "      <td>0</td>\n",
              "      <td>0</td>\n",
              "      <td>0</td>\n",
              "      <td>0</td>\n",
              "      <td>0</td>\n",
              "      <td>0</td>\n",
              "      <td>0</td>\n",
              "      <td>0</td>\n",
              "      <td>0</td>\n",
              "      <td>0</td>\n",
              "    </tr>\n",
              "    <tr>\n",
              "      <th>3</th>\n",
              "      <td>0</td>\n",
              "      <td>0</td>\n",
              "      <td>0</td>\n",
              "      <td>0</td>\n",
              "      <td>0</td>\n",
              "      <td>0</td>\n",
              "      <td>0</td>\n",
              "      <td>0</td>\n",
              "      <td>0</td>\n",
              "      <td>0</td>\n",
              "      <td>0</td>\n",
              "      <td>0</td>\n",
              "      <td>0</td>\n",
              "      <td>0</td>\n",
              "      <td>0</td>\n",
              "      <td>0</td>\n",
              "      <td>0</td>\n",
              "      <td>0</td>\n",
              "      <td>0</td>\n",
              "      <td>0</td>\n",
              "      <td>0</td>\n",
              "      <td>0</td>\n",
              "      <td>0</td>\n",
              "      <td>0</td>\n",
              "      <td>0</td>\n",
              "      <td>0</td>\n",
              "      <td>0</td>\n",
              "      <td>0</td>\n",
              "      <td>0</td>\n",
              "      <td>0</td>\n",
              "      <td>0</td>\n",
              "      <td>0</td>\n",
              "      <td>0</td>\n",
              "      <td>0</td>\n",
              "      <td>0</td>\n",
              "      <td>0</td>\n",
              "      <td>0</td>\n",
              "      <td>0</td>\n",
              "      <td>0</td>\n",
              "      <td>0</td>\n",
              "      <td>...</td>\n",
              "      <td>0</td>\n",
              "      <td>0</td>\n",
              "      <td>0</td>\n",
              "      <td>0</td>\n",
              "      <td>0</td>\n",
              "      <td>0</td>\n",
              "      <td>0</td>\n",
              "      <td>0</td>\n",
              "      <td>0</td>\n",
              "      <td>0</td>\n",
              "      <td>0</td>\n",
              "      <td>0</td>\n",
              "      <td>0</td>\n",
              "      <td>0</td>\n",
              "      <td>0</td>\n",
              "      <td>0</td>\n",
              "      <td>1</td>\n",
              "      <td>0</td>\n",
              "      <td>0</td>\n",
              "      <td>0</td>\n",
              "      <td>0</td>\n",
              "      <td>0</td>\n",
              "      <td>0</td>\n",
              "      <td>1</td>\n",
              "      <td>0</td>\n",
              "      <td>4</td>\n",
              "      <td>0</td>\n",
              "      <td>0</td>\n",
              "      <td>0</td>\n",
              "      <td>0</td>\n",
              "      <td>0</td>\n",
              "      <td>0</td>\n",
              "      <td>0</td>\n",
              "      <td>0</td>\n",
              "      <td>0</td>\n",
              "      <td>0</td>\n",
              "      <td>0</td>\n",
              "      <td>0</td>\n",
              "      <td>0</td>\n",
              "      <td>0</td>\n",
              "    </tr>\n",
              "    <tr>\n",
              "      <th>4</th>\n",
              "      <td>0</td>\n",
              "      <td>0</td>\n",
              "      <td>0</td>\n",
              "      <td>0</td>\n",
              "      <td>0</td>\n",
              "      <td>0</td>\n",
              "      <td>0</td>\n",
              "      <td>0</td>\n",
              "      <td>0</td>\n",
              "      <td>0</td>\n",
              "      <td>0</td>\n",
              "      <td>0</td>\n",
              "      <td>0</td>\n",
              "      <td>0</td>\n",
              "      <td>0</td>\n",
              "      <td>0</td>\n",
              "      <td>0</td>\n",
              "      <td>0</td>\n",
              "      <td>0</td>\n",
              "      <td>0</td>\n",
              "      <td>0</td>\n",
              "      <td>0</td>\n",
              "      <td>0</td>\n",
              "      <td>0</td>\n",
              "      <td>0</td>\n",
              "      <td>0</td>\n",
              "      <td>0</td>\n",
              "      <td>0</td>\n",
              "      <td>0</td>\n",
              "      <td>0</td>\n",
              "      <td>0</td>\n",
              "      <td>0</td>\n",
              "      <td>0</td>\n",
              "      <td>0</td>\n",
              "      <td>0</td>\n",
              "      <td>0</td>\n",
              "      <td>0</td>\n",
              "      <td>0</td>\n",
              "      <td>0</td>\n",
              "      <td>0</td>\n",
              "      <td>...</td>\n",
              "      <td>0</td>\n",
              "      <td>0</td>\n",
              "      <td>0</td>\n",
              "      <td>0</td>\n",
              "      <td>0</td>\n",
              "      <td>0</td>\n",
              "      <td>0</td>\n",
              "      <td>1</td>\n",
              "      <td>0</td>\n",
              "      <td>0</td>\n",
              "      <td>0</td>\n",
              "      <td>0</td>\n",
              "      <td>0</td>\n",
              "      <td>0</td>\n",
              "      <td>0</td>\n",
              "      <td>0</td>\n",
              "      <td>0</td>\n",
              "      <td>0</td>\n",
              "      <td>0</td>\n",
              "      <td>0</td>\n",
              "      <td>0</td>\n",
              "      <td>0</td>\n",
              "      <td>0</td>\n",
              "      <td>0</td>\n",
              "      <td>0</td>\n",
              "      <td>1</td>\n",
              "      <td>0</td>\n",
              "      <td>0</td>\n",
              "      <td>0</td>\n",
              "      <td>0</td>\n",
              "      <td>0</td>\n",
              "      <td>0</td>\n",
              "      <td>0</td>\n",
              "      <td>0</td>\n",
              "      <td>0</td>\n",
              "      <td>0</td>\n",
              "      <td>0</td>\n",
              "      <td>2</td>\n",
              "      <td>0</td>\n",
              "      <td>0</td>\n",
              "    </tr>\n",
              "  </tbody>\n",
              "</table>\n",
              "<p>5 rows × 2590 columns</p>\n",
              "</div>\n",
              "      <button class=\"colab-df-convert\" onclick=\"convertToInteractive('df-d6eb1d3e-1e3d-419b-9ffd-9664cb9f2e77')\"\n",
              "              title=\"Convert this dataframe to an interactive table.\"\n",
              "              style=\"display:none;\">\n",
              "        \n",
              "  <svg xmlns=\"http://www.w3.org/2000/svg\" height=\"24px\"viewBox=\"0 0 24 24\"\n",
              "       width=\"24px\">\n",
              "    <path d=\"M0 0h24v24H0V0z\" fill=\"none\"/>\n",
              "    <path d=\"M18.56 5.44l.94 2.06.94-2.06 2.06-.94-2.06-.94-.94-2.06-.94 2.06-2.06.94zm-11 1L8.5 8.5l.94-2.06 2.06-.94-2.06-.94L8.5 2.5l-.94 2.06-2.06.94zm10 10l.94 2.06.94-2.06 2.06-.94-2.06-.94-.94-2.06-.94 2.06-2.06.94z\"/><path d=\"M17.41 7.96l-1.37-1.37c-.4-.4-.92-.59-1.43-.59-.52 0-1.04.2-1.43.59L10.3 9.45l-7.72 7.72c-.78.78-.78 2.05 0 2.83L4 21.41c.39.39.9.59 1.41.59.51 0 1.02-.2 1.41-.59l7.78-7.78 2.81-2.81c.8-.78.8-2.07 0-2.86zM5.41 20L4 18.59l7.72-7.72 1.47 1.35L5.41 20z\"/>\n",
              "  </svg>\n",
              "      </button>\n",
              "      \n",
              "  <style>\n",
              "    .colab-df-container {\n",
              "      display:flex;\n",
              "      flex-wrap:wrap;\n",
              "      gap: 12px;\n",
              "    }\n",
              "\n",
              "    .colab-df-convert {\n",
              "      background-color: #E8F0FE;\n",
              "      border: none;\n",
              "      border-radius: 50%;\n",
              "      cursor: pointer;\n",
              "      display: none;\n",
              "      fill: #1967D2;\n",
              "      height: 32px;\n",
              "      padding: 0 0 0 0;\n",
              "      width: 32px;\n",
              "    }\n",
              "\n",
              "    .colab-df-convert:hover {\n",
              "      background-color: #E2EBFA;\n",
              "      box-shadow: 0px 1px 2px rgba(60, 64, 67, 0.3), 0px 1px 3px 1px rgba(60, 64, 67, 0.15);\n",
              "      fill: #174EA6;\n",
              "    }\n",
              "\n",
              "    [theme=dark] .colab-df-convert {\n",
              "      background-color: #3B4455;\n",
              "      fill: #D2E3FC;\n",
              "    }\n",
              "\n",
              "    [theme=dark] .colab-df-convert:hover {\n",
              "      background-color: #434B5C;\n",
              "      box-shadow: 0px 1px 3px 1px rgba(0, 0, 0, 0.15);\n",
              "      filter: drop-shadow(0px 1px 2px rgba(0, 0, 0, 0.3));\n",
              "      fill: #FFFFFF;\n",
              "    }\n",
              "  </style>\n",
              "\n",
              "      <script>\n",
              "        const buttonEl =\n",
              "          document.querySelector('#df-d6eb1d3e-1e3d-419b-9ffd-9664cb9f2e77 button.colab-df-convert');\n",
              "        buttonEl.style.display =\n",
              "          google.colab.kernel.accessAllowed ? 'block' : 'none';\n",
              "\n",
              "        async function convertToInteractive(key) {\n",
              "          const element = document.querySelector('#df-d6eb1d3e-1e3d-419b-9ffd-9664cb9f2e77');\n",
              "          const dataTable =\n",
              "            await google.colab.kernel.invokeFunction('convertToInteractive',\n",
              "                                                     [key], {});\n",
              "          if (!dataTable) return;\n",
              "\n",
              "          const docLinkHtml = 'Like what you see? Visit the ' +\n",
              "            '<a target=\"_blank\" href=https://colab.research.google.com/notebooks/data_table.ipynb>data table notebook</a>'\n",
              "            + ' to learn more about interactive tables.';\n",
              "          element.innerHTML = '';\n",
              "          dataTable['output_type'] = 'display_data';\n",
              "          await google.colab.output.renderOutput(dataTable, element);\n",
              "          const docLink = document.createElement('div');\n",
              "          docLink.innerHTML = docLinkHtml;\n",
              "          element.appendChild(docLink);\n",
              "        }\n",
              "      </script>\n",
              "    </div>\n",
              "  </div>\n",
              "  "
            ],
            "text/plain": [
              "   aaron  aarons  ability  able  absoltely  ...  you  youi  zach  zelada  zero\n",
              "0      0       0        0     0          0  ...    0     0     0       0     0\n",
              "1      0       0        0     0          0  ...    0     0     0       0     0\n",
              "2      0       0        0     0          0  ...    0     0     0       0     0\n",
              "3      0       0        0     0          0  ...    0     0     0       0     0\n",
              "4      0       0        0     0          0  ...    0     0     2       0     0\n",
              "\n",
              "[5 rows x 2590 columns]"
            ]
          },
          "metadata": {},
          "execution_count": 21
        }
      ]
    },
    {
      "cell_type": "code",
      "source": [
        "vocab1 = count_vect.get_feature_names()"
      ],
      "metadata": {
        "id": "Bp5lf-u3NmfP"
      },
      "execution_count": null,
      "outputs": []
    },
    {
      "cell_type": "code",
      "source": [
        "SIA = SentimentIntensityAnalyzer()"
      ],
      "metadata": {
        "id": "eQYVTjNpPVZ7"
      },
      "execution_count": null,
      "outputs": []
    },
    {
      "cell_type": "code",
      "source": [
        "pos_list = []\n",
        "neg_list = []\n",
        "neut_list = []\n",
        "for word in vocab1:\n",
        "    if(SIA.polarity_scores(word)['compound']) > 0:\n",
        "        pos_list.append(word)\n",
        "    elif(SIA.polarity_scores(word)['compound']) < 0:\n",
        "         neg_list.append(word)\n",
        "    else:\n",
        "         neut_list.append(word)"
      ],
      "metadata": {
        "id": "RS37q7PtPAq8"
      },
      "execution_count": null,
      "outputs": []
    },
    {
      "cell_type": "code",
      "source": [
        "pos_neg_df = pd.DataFrame([len(pos_list), len(neg_list), len(neut_list)], index=['positive', 'negative', 'neutral'], columns=['unique_count'])\n",
        "pos_neg_df"
      ],
      "metadata": {
        "colab": {
          "base_uri": "https://localhost:8080/",
          "height": 144
        },
        "id": "QY39AEl7P_Nr",
        "outputId": "5ea1ec1d-8910-4708-849b-d2000b1fb188"
      },
      "execution_count": null,
      "outputs": [
        {
          "output_type": "execute_result",
          "data": {
            "text/html": [
              "\n",
              "  <div id=\"df-72b8bb5b-1cee-44bf-b9f1-147bd5d52e60\">\n",
              "    <div class=\"colab-df-container\">\n",
              "      <div>\n",
              "<style scoped>\n",
              "    .dataframe tbody tr th:only-of-type {\n",
              "        vertical-align: middle;\n",
              "    }\n",
              "\n",
              "    .dataframe tbody tr th {\n",
              "        vertical-align: top;\n",
              "    }\n",
              "\n",
              "    .dataframe thead th {\n",
              "        text-align: right;\n",
              "    }\n",
              "</style>\n",
              "<table border=\"1\" class=\"dataframe\">\n",
              "  <thead>\n",
              "    <tr style=\"text-align: right;\">\n",
              "      <th></th>\n",
              "      <th>unique_count</th>\n",
              "    </tr>\n",
              "  </thead>\n",
              "  <tbody>\n",
              "    <tr>\n",
              "      <th>positive</th>\n",
              "      <td>296</td>\n",
              "    </tr>\n",
              "    <tr>\n",
              "      <th>negative</th>\n",
              "      <td>156</td>\n",
              "    </tr>\n",
              "    <tr>\n",
              "      <th>neutral</th>\n",
              "      <td>2138</td>\n",
              "    </tr>\n",
              "  </tbody>\n",
              "</table>\n",
              "</div>\n",
              "      <button class=\"colab-df-convert\" onclick=\"convertToInteractive('df-72b8bb5b-1cee-44bf-b9f1-147bd5d52e60')\"\n",
              "              title=\"Convert this dataframe to an interactive table.\"\n",
              "              style=\"display:none;\">\n",
              "        \n",
              "  <svg xmlns=\"http://www.w3.org/2000/svg\" height=\"24px\"viewBox=\"0 0 24 24\"\n",
              "       width=\"24px\">\n",
              "    <path d=\"M0 0h24v24H0V0z\" fill=\"none\"/>\n",
              "    <path d=\"M18.56 5.44l.94 2.06.94-2.06 2.06-.94-2.06-.94-.94-2.06-.94 2.06-2.06.94zm-11 1L8.5 8.5l.94-2.06 2.06-.94-2.06-.94L8.5 2.5l-.94 2.06-2.06.94zm10 10l.94 2.06.94-2.06 2.06-.94-2.06-.94-.94-2.06-.94 2.06-2.06.94z\"/><path d=\"M17.41 7.96l-1.37-1.37c-.4-.4-.92-.59-1.43-.59-.52 0-1.04.2-1.43.59L10.3 9.45l-7.72 7.72c-.78.78-.78 2.05 0 2.83L4 21.41c.39.39.9.59 1.41.59.51 0 1.02-.2 1.41-.59l7.78-7.78 2.81-2.81c.8-.78.8-2.07 0-2.86zM5.41 20L4 18.59l7.72-7.72 1.47 1.35L5.41 20z\"/>\n",
              "  </svg>\n",
              "      </button>\n",
              "      \n",
              "  <style>\n",
              "    .colab-df-container {\n",
              "      display:flex;\n",
              "      flex-wrap:wrap;\n",
              "      gap: 12px;\n",
              "    }\n",
              "\n",
              "    .colab-df-convert {\n",
              "      background-color: #E8F0FE;\n",
              "      border: none;\n",
              "      border-radius: 50%;\n",
              "      cursor: pointer;\n",
              "      display: none;\n",
              "      fill: #1967D2;\n",
              "      height: 32px;\n",
              "      padding: 0 0 0 0;\n",
              "      width: 32px;\n",
              "    }\n",
              "\n",
              "    .colab-df-convert:hover {\n",
              "      background-color: #E2EBFA;\n",
              "      box-shadow: 0px 1px 2px rgba(60, 64, 67, 0.3), 0px 1px 3px 1px rgba(60, 64, 67, 0.15);\n",
              "      fill: #174EA6;\n",
              "    }\n",
              "\n",
              "    [theme=dark] .colab-df-convert {\n",
              "      background-color: #3B4455;\n",
              "      fill: #D2E3FC;\n",
              "    }\n",
              "\n",
              "    [theme=dark] .colab-df-convert:hover {\n",
              "      background-color: #434B5C;\n",
              "      box-shadow: 0px 1px 3px 1px rgba(0, 0, 0, 0.15);\n",
              "      filter: drop-shadow(0px 1px 2px rgba(0, 0, 0, 0.3));\n",
              "      fill: #FFFFFF;\n",
              "    }\n",
              "  </style>\n",
              "\n",
              "      <script>\n",
              "        const buttonEl =\n",
              "          document.querySelector('#df-72b8bb5b-1cee-44bf-b9f1-147bd5d52e60 button.colab-df-convert');\n",
              "        buttonEl.style.display =\n",
              "          google.colab.kernel.accessAllowed ? 'block' : 'none';\n",
              "\n",
              "        async function convertToInteractive(key) {\n",
              "          const element = document.querySelector('#df-72b8bb5b-1cee-44bf-b9f1-147bd5d52e60');\n",
              "          const dataTable =\n",
              "            await google.colab.kernel.invokeFunction('convertToInteractive',\n",
              "                                                     [key], {});\n",
              "          if (!dataTable) return;\n",
              "\n",
              "          const docLinkHtml = 'Like what you see? Visit the ' +\n",
              "            '<a target=\"_blank\" href=https://colab.research.google.com/notebooks/data_table.ipynb>data table notebook</a>'\n",
              "            + ' to learn more about interactive tables.';\n",
              "          element.innerHTML = '';\n",
              "          dataTable['output_type'] = 'display_data';\n",
              "          await google.colab.output.renderOutput(dataTable, element);\n",
              "          const docLink = document.createElement('div');\n",
              "          docLink.innerHTML = docLinkHtml;\n",
              "          element.appendChild(docLink);\n",
              "        }\n",
              "      </script>\n",
              "    </div>\n",
              "  </div>\n",
              "  "
            ],
            "text/plain": [
              "          unique_count\n",
              "positive           296\n",
              "negative           156\n",
              "neutral           2138"
            ]
          },
          "metadata": {},
          "execution_count": 26
        }
      ]
    },
    {
      "cell_type": "code",
      "source": [
        "with plt.style.context('dark_background'):\n",
        "  plt.figure(figsize=(10,7))\n",
        "  sns.barplot(x=pos_neg_df.index, y=pos_neg_df.unique_count)\n",
        "  plt.ylabel('Unique Counts')"
      ],
      "metadata": {
        "colab": {
          "base_uri": "https://localhost:8080/",
          "height": 433
        },
        "id": "sBqU-zojRMB4",
        "outputId": "ae24575c-590a-48d7-8ea2-e5a958257018"
      },
      "execution_count": null,
      "outputs": [
        {
          "output_type": "display_data",
          "data": {
            "image/png": "[encoded data removed]",
            "text/plain": [
              "<Figure size 720x504 with 1 Axes>"
            ]
          },
          "metadata": {}
        }
      ]
    },
    {
      "cell_type": "code",
      "source": [
        "pos_words = []\n",
        "pos_counts = []\n",
        "neg_words = []\n",
        "neg_counts = []\n",
        "for word in vocab1:\n",
        "  if word in pos_list:\n",
        "    pos_words.append(word)\n",
        "    pos_counts.append(data_dtm.loc[:,word].sum())\n",
        "  elif word in neg_list:\n",
        "    neg_words.append(word)\n",
        "    neg_counts.append(data_dtm.loc[:,word].sum())\n",
        "\n",
        "pos_df = pd.DataFrame(pos_counts, index=pos_list, columns=['pos_counts']).sort_values(by='pos_counts', ascending=False)\n",
        "neg_df = pd.DataFrame(neg_counts, index=neg_list, columns=['neg_counts']).sort_values(by='neg_counts', ascending=False)"
      ],
      "metadata": {
        "id": "BhrYfIUxSKG2"
      },
      "execution_count": null,
      "outputs": []
    },
    {
      "cell_type": "markdown",
      "source": [
        "### Top 10 Key Positive Words"
      ],
      "metadata": {
        "id": "Gkh23oYKau0Q"
      }
    },
    {
      "cell_type": "code",
      "source": [
        "pos_df.head(10)"
      ],
      "metadata": {
        "colab": {
          "base_uri": "https://localhost:8080/",
          "height": 362
        },
        "id": "fA3oRs4qXNnI",
        "outputId": "abec4dbc-aa90-49ee-825c-521387def510"
      },
      "execution_count": null,
      "outputs": [
        {
          "output_type": "execute_result",
          "data": {
            "text/html": [
              "\n",
              "  <div id=\"df-ef3e9f6c-c8c8-4ac9-9a1e-dbaf811b8d5d\">\n",
              "    <div class=\"colab-df-container\">\n",
              "      <div>\n",
              "<style scoped>\n",
              "    .dataframe tbody tr th:only-of-type {\n",
              "        vertical-align: middle;\n",
              "    }\n",
              "\n",
              "    .dataframe tbody tr th {\n",
              "        vertical-align: top;\n",
              "    }\n",
              "\n",
              "    .dataframe thead th {\n",
              "        text-align: right;\n",
              "    }\n",
              "</style>\n",
              "<table border=\"1\" class=\"dataframe\">\n",
              "  <thead>\n",
              "    <tr style=\"text-align: right;\">\n",
              "      <th></th>\n",
              "      <th>pos_counts</th>\n",
              "    </tr>\n",
              "  </thead>\n",
              "  <tbody>\n",
              "    <tr>\n",
              "      <th>recommend</th>\n",
              "      <td>156</td>\n",
              "    </tr>\n",
              "    <tr>\n",
              "      <th>great</th>\n",
              "      <td>139</td>\n",
              "    </tr>\n",
              "    <tr>\n",
              "      <th>best</th>\n",
              "      <td>99</td>\n",
              "    </tr>\n",
              "    <tr>\n",
              "      <th>easy</th>\n",
              "      <td>65</td>\n",
              "    </tr>\n",
              "    <tr>\n",
              "      <th>thanks</th>\n",
              "      <td>61</td>\n",
              "    </tr>\n",
              "    <tr>\n",
              "      <th>helpful</th>\n",
              "      <td>56</td>\n",
              "    </tr>\n",
              "    <tr>\n",
              "      <th>sure</th>\n",
              "      <td>51</td>\n",
              "    </tr>\n",
              "    <tr>\n",
              "      <th>thank</th>\n",
              "      <td>50</td>\n",
              "    </tr>\n",
              "    <tr>\n",
              "      <th>responsive</th>\n",
              "      <td>48</td>\n",
              "    </tr>\n",
              "    <tr>\n",
              "      <th>well</th>\n",
              "      <td>47</td>\n",
              "    </tr>\n",
              "  </tbody>\n",
              "</table>\n",
              "</div>\n",
              "      <button class=\"colab-df-convert\" onclick=\"convertToInteractive('df-ef3e9f6c-c8c8-4ac9-9a1e-dbaf811b8d5d')\"\n",
              "              title=\"Convert this dataframe to an interactive table.\"\n",
              "              style=\"display:none;\">\n",
              "        \n",
              "  <svg xmlns=\"http://www.w3.org/2000/svg\" height=\"24px\"viewBox=\"0 0 24 24\"\n",
              "       width=\"24px\">\n",
              "    <path d=\"M0 0h24v24H0V0z\" fill=\"none\"/>\n",
              "    <path d=\"M18.56 5.44l.94 2.06.94-2.06 2.06-.94-2.06-.94-.94-2.06-.94 2.06-2.06.94zm-11 1L8.5 8.5l.94-2.06 2.06-.94-2.06-.94L8.5 2.5l-.94 2.06-2.06.94zm10 10l.94 2.06.94-2.06 2.06-.94-2.06-.94-.94-2.06-.94 2.06-2.06.94z\"/><path d=\"M17.41 7.96l-1.37-1.37c-.4-.4-.92-.59-1.43-.59-.52 0-1.04.2-1.43.59L10.3 9.45l-7.72 7.72c-.78.78-.78 2.05 0 2.83L4 21.41c.39.39.9.59 1.41.59.51 0 1.02-.2 1.41-.59l7.78-7.78 2.81-2.81c.8-.78.8-2.07 0-2.86zM5.41 20L4 18.59l7.72-7.72 1.47 1.35L5.41 20z\"/>\n",
              "  </svg>\n",
              "      </button>\n",
              "      \n",
              "  <style>\n",
              "    .colab-df-container {\n",
              "      display:flex;\n",
              "      flex-wrap:wrap;\n",
              "      gap: 12px;\n",
              "    }\n",
              "\n",
              "    .colab-df-convert {\n",
              "      background-color: #E8F0FE;\n",
              "      border: none;\n",
              "      border-radius: 50%;\n",
              "      cursor: pointer;\n",
              "      display: none;\n",
              "      fill: #1967D2;\n",
              "      height: 32px;\n",
              "      padding: 0 0 0 0;\n",
              "      width: 32px;\n",
              "    }\n",
              "\n",
              "    .colab-df-convert:hover {\n",
              "      background-color: #E2EBFA;\n",
              "      box-shadow: 0px 1px 2px rgba(60, 64, 67, 0.3), 0px 1px 3px 1px rgba(60, 64, 67, 0.15);\n",
              "      fill: #174EA6;\n",
              "    }\n",
              "\n",
              "    [theme=dark] .colab-df-convert {\n",
              "      background-color: #3B4455;\n",
              "      fill: #D2E3FC;\n",
              "    }\n",
              "\n",
              "    [theme=dark] .colab-df-convert:hover {\n",
              "      background-color: #434B5C;\n",
              "      box-shadow: 0px 1px 3px 1px rgba(0, 0, 0, 0.15);\n",
              "      filter: drop-shadow(0px 1px 2px rgba(0, 0, 0, 0.3));\n",
              "      fill: #FFFFFF;\n",
              "    }\n",
              "  </style>\n",
              "\n",
              "      <script>\n",
              "        const buttonEl =\n",
              "          document.querySelector('#df-ef3e9f6c-c8c8-4ac9-9a1e-dbaf811b8d5d button.colab-df-convert');\n",
              "        buttonEl.style.display =\n",
              "          google.colab.kernel.accessAllowed ? 'block' : 'none';\n",
              "\n",
              "        async function convertToInteractive(key) {\n",
              "          const element = document.querySelector('#df-ef3e9f6c-c8c8-4ac9-9a1e-dbaf811b8d5d');\n",
              "          const dataTable =\n",
              "            await google.colab.kernel.invokeFunction('convertToInteractive',\n",
              "                                                     [key], {});\n",
              "          if (!dataTable) return;\n",
              "\n",
              "          const docLinkHtml = 'Like what you see? Visit the ' +\n",
              "            '<a target=\"_blank\" href=https://colab.research.google.com/notebooks/data_table.ipynb>data table notebook</a>'\n",
              "            + ' to learn more about interactive tables.';\n",
              "          element.innerHTML = '';\n",
              "          dataTable['output_type'] = 'display_data';\n",
              "          await google.colab.output.renderOutput(dataTable, element);\n",
              "          const docLink = document.createElement('div');\n",
              "          docLink.innerHTML = docLinkHtml;\n",
              "          element.appendChild(docLink);\n",
              "        }\n",
              "      </script>\n",
              "    </div>\n",
              "  </div>\n",
              "  "
            ],
            "text/plain": [
              "            pos_counts\n",
              "recommend          156\n",
              "great              139\n",
              "best                99\n",
              "easy                65\n",
              "thanks              61\n",
              "helpful             56\n",
              "sure                51\n",
              "thank               50\n",
              "responsive          48\n",
              "well                47"
            ]
          },
          "metadata": {},
          "execution_count": 29
        }
      ]
    },
    {
      "cell_type": "code",
      "source": [
        "with plt.style.context('dark_background'):\n",
        "  plt.figure(figsize=(20,8))\n",
        "  sns.lineplot(x=pos_df[0:10].index, y=pos_df[0:10].pos_counts)\n",
        "  plt.xlabel('Key Positive Words')\n",
        "  plt.ylabel('Counts')\n",
        "  plt.title('Frequency Plot for Most Frequent Positive Words')"
      ],
      "metadata": {
        "colab": {
          "base_uri": "https://localhost:8080/",
          "height": 526
        },
        "id": "WM30qH1oYYgI",
        "outputId": "1726c810-72a1-430f-f3c4-4f8460386eb2"
      },
      "execution_count": null,
      "outputs": [
        {
          "output_type": "display_data",
          "data": {
            "image/png": "[encoded data removed]",
            "text/plain": [
              "<Figure size 1440x576 with 1 Axes>"
            ]
          },
          "metadata": {}
        }
      ]
    },
    {
      "cell_type": "markdown",
      "source": [
        "### Top 10 Key Negative Words"
      ],
      "metadata": {
        "id": "IwZqACzma4kP"
      }
    },
    {
      "cell_type": "code",
      "source": [
        "neg_df.head(10)"
      ],
      "metadata": {
        "colab": {
          "base_uri": "https://localhost:8080/",
          "height": 362
        },
        "id": "yexMZZp5YA8A",
        "outputId": "fd8f0432-57bf-4380-9ffe-631c4ea839f0"
      },
      "execution_count": null,
      "outputs": [
        {
          "output_type": "execute_result",
          "data": {
            "text/html": [
              "\n",
              "  <div id=\"df-f3a758a6-0db5-4e9d-b8fd-70ac166bfaf2\">\n",
              "    <div class=\"colab-df-container\">\n",
              "      <div>\n",
              "<style scoped>\n",
              "    .dataframe tbody tr th:only-of-type {\n",
              "        vertical-align: middle;\n",
              "    }\n",
              "\n",
              "    .dataframe tbody tr th {\n",
              "        vertical-align: top;\n",
              "    }\n",
              "\n",
              "    .dataframe thead th {\n",
              "        text-align: right;\n",
              "    }\n",
              "</style>\n",
              "<table border=\"1\" class=\"dataframe\">\n",
              "  <thead>\n",
              "    <tr style=\"text-align: right;\">\n",
              "      <th></th>\n",
              "      <th>neg_counts</th>\n",
              "    </tr>\n",
              "  </thead>\n",
              "  <tbody>\n",
              "    <tr>\n",
              "      <th>hard</th>\n",
              "      <td>40</td>\n",
              "    </tr>\n",
              "    <tr>\n",
              "      <th>poor</th>\n",
              "      <td>32</td>\n",
              "    </tr>\n",
              "    <tr>\n",
              "      <th>pay</th>\n",
              "      <td>25</td>\n",
              "    </tr>\n",
              "    <tr>\n",
              "      <th>stressful</th>\n",
              "      <td>24</td>\n",
              "    </tr>\n",
              "    <tr>\n",
              "      <th>lower</th>\n",
              "      <td>23</td>\n",
              "    </tr>\n",
              "    <tr>\n",
              "      <th>problem</th>\n",
              "      <td>18</td>\n",
              "    </tr>\n",
              "    <tr>\n",
              "      <th>mistake</th>\n",
              "      <td>17</td>\n",
              "    </tr>\n",
              "    <tr>\n",
              "      <th>problems</th>\n",
              "      <td>16</td>\n",
              "    </tr>\n",
              "    <tr>\n",
              "      <th>questioned</th>\n",
              "      <td>10</td>\n",
              "    </tr>\n",
              "    <tr>\n",
              "      <th>failed</th>\n",
              "      <td>10</td>\n",
              "    </tr>\n",
              "  </tbody>\n",
              "</table>\n",
              "</div>\n",
              "      <button class=\"colab-df-convert\" onclick=\"convertToInteractive('df-f3a758a6-0db5-4e9d-b8fd-70ac166bfaf2')\"\n",
              "              title=\"Convert this dataframe to an interactive table.\"\n",
              "              style=\"display:none;\">\n",
              "        \n",
              "  <svg xmlns=\"http://www.w3.org/2000/svg\" height=\"24px\"viewBox=\"0 0 24 24\"\n",
              "       width=\"24px\">\n",
              "    <path d=\"M0 0h24v24H0V0z\" fill=\"none\"/>\n",
              "    <path d=\"M18.56 5.44l.94 2.06.94-2.06 2.06-.94-2.06-.94-.94-2.06-.94 2.06-2.06.94zm-11 1L8.5 8.5l.94-2.06 2.06-.94-2.06-.94L8.5 2.5l-.94 2.06-2.06.94zm10 10l.94 2.06.94-2.06 2.06-.94-2.06-.94-.94-2.06-.94 2.06-2.06.94z\"/><path d=\"M17.41 7.96l-1.37-1.37c-.4-.4-.92-.59-1.43-.59-.52 0-1.04.2-1.43.59L10.3 9.45l-7.72 7.72c-.78.78-.78 2.05 0 2.83L4 21.41c.39.39.9.59 1.41.59.51 0 1.02-.2 1.41-.59l7.78-7.78 2.81-2.81c.8-.78.8-2.07 0-2.86zM5.41 20L4 18.59l7.72-7.72 1.47 1.35L5.41 20z\"/>\n",
              "  </svg>\n",
              "      </button>\n",
              "      \n",
              "  <style>\n",
              "    .colab-df-container {\n",
              "      display:flex;\n",
              "      flex-wrap:wrap;\n",
              "      gap: 12px;\n",
              "    }\n",
              "\n",
              "    .colab-df-convert {\n",
              "      background-color: #E8F0FE;\n",
              "      border: none;\n",
              "      border-radius: 50%;\n",
              "      cursor: pointer;\n",
              "      display: none;\n",
              "      fill: #1967D2;\n",
              "      height: 32px;\n",
              "      padding: 0 0 0 0;\n",
              "      width: 32px;\n",
              "    }\n",
              "\n",
              "    .colab-df-convert:hover {\n",
              "      background-color: #E2EBFA;\n",
              "      box-shadow: 0px 1px 2px rgba(60, 64, 67, 0.3), 0px 1px 3px 1px rgba(60, 64, 67, 0.15);\n",
              "      fill: #174EA6;\n",
              "    }\n",
              "\n",
              "    [theme=dark] .colab-df-convert {\n",
              "      background-color: #3B4455;\n",
              "      fill: #D2E3FC;\n",
              "    }\n",
              "\n",
              "    [theme=dark] .colab-df-convert:hover {\n",
              "      background-color: #434B5C;\n",
              "      box-shadow: 0px 1px 3px 1px rgba(0, 0, 0, 0.15);\n",
              "      filter: drop-shadow(0px 1px 2px rgba(0, 0, 0, 0.3));\n",
              "      fill: #FFFFFF;\n",
              "    }\n",
              "  </style>\n",
              "\n",
              "      <script>\n",
              "        const buttonEl =\n",
              "          document.querySelector('#df-f3a758a6-0db5-4e9d-b8fd-70ac166bfaf2 button.colab-df-convert');\n",
              "        buttonEl.style.display =\n",
              "          google.colab.kernel.accessAllowed ? 'block' : 'none';\n",
              "\n",
              "        async function convertToInteractive(key) {\n",
              "          const element = document.querySelector('#df-f3a758a6-0db5-4e9d-b8fd-70ac166bfaf2');\n",
              "          const dataTable =\n",
              "            await google.colab.kernel.invokeFunction('convertToInteractive',\n",
              "                                                     [key], {});\n",
              "          if (!dataTable) return;\n",
              "\n",
              "          const docLinkHtml = 'Like what you see? Visit the ' +\n",
              "            '<a target=\"_blank\" href=https://colab.research.google.com/notebooks/data_table.ipynb>data table notebook</a>'\n",
              "            + ' to learn more about interactive tables.';\n",
              "          element.innerHTML = '';\n",
              "          dataTable['output_type'] = 'display_data';\n",
              "          await google.colab.output.renderOutput(dataTable, element);\n",
              "          const docLink = document.createElement('div');\n",
              "          docLink.innerHTML = docLinkHtml;\n",
              "          element.appendChild(docLink);\n",
              "        }\n",
              "      </script>\n",
              "    </div>\n",
              "  </div>\n",
              "  "
            ],
            "text/plain": [
              "            neg_counts\n",
              "hard                40\n",
              "poor                32\n",
              "pay                 25\n",
              "stressful           24\n",
              "lower               23\n",
              "problem             18\n",
              "mistake             17\n",
              "problems            16\n",
              "questioned          10\n",
              "failed              10"
            ]
          },
          "metadata": {},
          "execution_count": 31
        }
      ]
    },
    {
      "cell_type": "code",
      "source": [
        "with plt.style.context('dark_background'):\n",
        "  plt.figure(figsize=(20,8))\n",
        "  sns.lineplot(x=neg_df[0:10].index, y=neg_df[0:10].neg_counts)\n",
        "  plt.xlabel('Key Negative Words')\n",
        "  plt.ylabel('Counts')\n",
        "  plt.title('Frequency Plot for Most Frequent Negative Words')"
      ],
      "metadata": {
        "colab": {
          "base_uri": "https://localhost:8080/",
          "height": 526
        },
        "id": "AyfOHwDwZN2j",
        "outputId": "00eb264e-2417-4c78-d90e-b4148f1a6135"
      },
      "execution_count": null,
      "outputs": [
        {
          "output_type": "display_data",
          "data": {
            "image/png": "[encoded data removed]",
            "text/plain": [
              "<Figure size 1440x576 with 1 Axes>"
            ]
          },
          "metadata": {}
        }
      ]
    },
    {
      "cell_type": "markdown",
      "source": [
        "# Sentiment Analysis\n",
        "\n",
        "#### using Textblob"
      ],
      "metadata": {
        "id": "aKvsz-yPBFa2"
      }
    },
    {
      "cell_type": "code",
      "source": [
        "data['sentiment_value'] = data[\"Reviews\"].apply(lambda x: TextBlob(x).sentiment.polarity )"
      ],
      "metadata": {
        "id": "C6v22X-T877v"
      },
      "execution_count": null,
      "outputs": []
    },
    {
      "cell_type": "code",
      "source": [
        "data['sentiment'] = np.where(data['sentiment_value']>0, 'Positive', np.where(data['sentiment_value']==0, 'Neutral', 'Negative'))"
      ],
      "metadata": {
        "id": "XZxiGzqa9IVI"
      },
      "execution_count": null,
      "outputs": []
    },
    {
      "cell_type": "code",
      "source": [
        "data['sentiment'].value_counts()"
      ],
      "metadata": {
        "colab": {
          "base_uri": "https://localhost:8080/"
        },
        "id": "d01yAclrEh-R",
        "outputId": "5394c77a-be5f-428f-d0dc-ea827e93b698"
      },
      "execution_count": null,
      "outputs": [
        {
          "output_type": "execute_result",
          "data": {
            "text/plain": [
              "Positive    454\n",
              "Negative     37\n",
              "Neutral      14\n",
              "Name: sentiment, dtype: int64"
            ]
          },
          "metadata": {},
          "execution_count": 37
        }
      ]
    },
    {
      "cell_type": "code",
      "source": [
        "with plt.style.context('dark_background'):\n",
        "  plt.figure(figsize=(10,7))\n",
        "  sns.barplot(x=data['sentiment'].value_counts().index, y=data['sentiment'].value_counts().values)\n",
        "  plt.ylabel('Review Count', fontsize=15)\n",
        "  plt.show()"
      ],
      "metadata": {
        "colab": {
          "base_uri": "https://localhost:8080/",
          "height": 433
        },
        "id": "yHjuhrVt9bte",
        "outputId": "cf5ea332-41fe-4c1a-b410-22b09c25bfd9"
      },
      "execution_count": null,
      "outputs": [
        {
          "output_type": "display_data",
          "data": {
            "image/png": "[encoded data removed]",
            "text/plain": [
              "<Figure size 720x504 with 1 Axes>"
            ]
          },
          "metadata": {}
        }
      ]
    },
    {
      "cell_type": "markdown",
      "source": [
        "### Top 5 Sample Positive Reviews"
      ],
      "metadata": {
        "id": "ctTnNOFiNHZ8"
      }
    },
    {
      "cell_type": "code",
      "source": [
        "for review in pd.concat([df.Reviews, data[['sentiment_value', 'sentiment']]], axis=1).sort_values(by='sentiment_value', ascending=False)[0:5].Reviews:\n",
        "  print(review)"
      ],
      "metadata": {
        "colab": {
          "base_uri": "https://localhost:8080/"
        },
        "id": "d3NvMl9VKxyi",
        "outputId": "3e71a5b1-567a-4c1a-d6ef-552e7188e1dc"
      },
      "execution_count": null,
      "outputs": [
        {
          "output_type": "stream",
          "name": "stdout",
          "text": [
            "\r\n",
            "excellent service. always called and emailed to give status of our loan. very accommodating.\r\n",
            "        \n",
            "\r\n",
            "Simply awesome! Responsive and very helpful. \r\n",
            "        \n",
            "\r\n",
            "Excellent customer service - had a great experience working with lender Marcos Maya & team!\r\n",
            "        \n",
            "\r\n",
            "John and his team were great. Best lender process I’ve had with a mortgage.\r\n",
            "        \n",
            "\r\n",
            "Great bank with great products.  Easily the best bank i've worked with.  \r\n",
            "        \n"
          ]
        }
      ]
    },
    {
      "cell_type": "markdown",
      "source": [
        "### Top 5 Sample Negative Reviews"
      ],
      "metadata": {
        "id": "NMxiWNYzNQeN"
      }
    },
    {
      "cell_type": "code",
      "source": [
        "for review in pd.concat([df.Reviews, data[['sentiment_value', 'sentiment']]], axis=1).sort_values(by='sentiment_value')[0:5].Reviews:\n",
        "  print(review)"
      ],
      "metadata": {
        "colab": {
          "base_uri": "https://localhost:8080/"
        },
        "id": "oAquVrPcNBE4",
        "outputId": "0219dff1-e7a0-4dcb-fdd8-c567a628b78a"
      },
      "execution_count": null,
      "outputs": [
        {
          "output_type": "stream",
          "name": "stdout",
          "text": [
            "\r\n",
            "bad\r\n",
            "        \n",
            "\r\n",
            "I had an awful experience with Reliance when refinancing my home.  I would not recommend them to anyone.  Among other issues, it is now 3 weeks after we closed and i am still waiting for the check that i was told that i would receive at closing!  Not weeks after closing,  DO NOT USE THIS COMPANY!!!!!\r\n",
            "        \n",
            "\r\n",
            "Called me after 60 seconds of submitting my Lending tree form. Asked if they could run some numbers by me, which I later found out was pulling my credit score without my permission. Didnt ask any specifics, just emailed a preapproval letter with a horrible rate.\r\n",
            "        \n",
            "Miserable experience. They screwed up everything imaginable and never accepted responsibility for any of their errors. I wouldnt recommend them for the purchase of a doghouse much less purchasing a new home.\n",
            "\r\n",
            "Miserable experience. They screwed up everything imaginable and never accepted responsibility for any of their errors. I wouldnt recommend them for the purchase of a doghouse much less purchasing a new home. \r\n",
            "        \n"
          ]
        }
      ]
    },
    {
      "cell_type": "markdown",
      "source": [
        "# Data Pre-Processing for Topic Modelling and Segmentation"
      ],
      "metadata": {
        "id": "D3wZKJIW8bbV"
      }
    },
    {
      "cell_type": "markdown",
      "source": [
        "#### Creating a Tf-Idf DTM ( Word Level Unigram )"
      ],
      "metadata": {
        "id": "f7sNHYIgEl2x"
      }
    },
    {
      "cell_type": "code",
      "source": [
        "tfidf_vect = TfidfVectorizer(min_df=10, max_df=0.95,\n",
        "                             ngram_range=(1, 1), \n",
        "                             stop_words=eng_stopwords)"
      ],
      "metadata": {
        "id": "buOB23uNCdRT"
      },
      "execution_count": null,
      "outputs": []
    },
    {
      "cell_type": "code",
      "source": [
        "tfidf_vect.fit(data['Reviews'])"
      ],
      "metadata": {
        "id": "GQqMGueu-xlv",
        "colab": {
          "base_uri": "https://localhost:8080/"
        },
        "outputId": "e76750fa-cf7f-42ef-fb87-8d97cb5673fe"
      },
      "execution_count": null,
      "outputs": [
        {
          "output_type": "execute_result",
          "data": {
            "text/plain": [
              "TfidfVectorizer(max_df=0.95, min_df=10,\n",
              "                stop_words={'a', 'about', 'above', 'after', 'again', 'against',\n",
              "                            'ain', 'all', 'am', 'an', 'and', 'any', 'are',\n",
              "                            'aren', \"aren't\", 'as', 'at', 'be', 'because',\n",
              "                            'been', 'before', 'being', 'below', 'between',\n",
              "                            'both', 'but', 'by', 'can', 'couldn', \"couldn't\", ...})"
            ]
          },
          "metadata": {},
          "execution_count": 40
        }
      ]
    },
    {
      "cell_type": "code",
      "source": [
        "train = tfidf_vect.transform(data['Reviews'])\n",
        "train"
      ],
      "metadata": {
        "id": "KMmw2CDTFsV8",
        "colab": {
          "base_uri": "https://localhost:8080/"
        },
        "outputId": "7e01c228-ad4a-40f4-fd8e-53bf5d52508b"
      },
      "execution_count": null,
      "outputs": [
        {
          "output_type": "execute_result",
          "data": {
            "text/plain": [
              "<505x398 sparse matrix of type '<class 'numpy.float64'>'\n",
              "\twith 10844 stored elements in Compressed Sparse Row format>"
            ]
          },
          "metadata": {},
          "execution_count": 41
        }
      ]
    },
    {
      "cell_type": "code",
      "source": [
        "vocab2 = tfidf_vect.get_feature_names()\n",
        "vocab2 = np.array(vocab2)"
      ],
      "metadata": {
        "id": "6jh20A9DDmos"
      },
      "execution_count": null,
      "outputs": []
    },
    {
      "cell_type": "markdown",
      "source": [
        "# Topic Modeling\n",
        "\n",
        "#### using LatentDirichletAllocation"
      ],
      "metadata": {
        "id": "3KXEhQwQJ82G"
      }
    },
    {
      "cell_type": "code",
      "source": [
        "lda = LatentDirichletAllocation(n_components=10, learning_method='batch', max_iter=100, random_state=12345)"
      ],
      "metadata": {
        "id": "MAKbAaD08kOE"
      },
      "execution_count": null,
      "outputs": []
    },
    {
      "cell_type": "code",
      "source": [
        "topics_lda = lda.fit_transform(train)\n",
        "topic_words = lda.components_"
      ],
      "metadata": {
        "id": "7UJMt5fgskpW"
      },
      "execution_count": null,
      "outputs": []
    },
    {
      "cell_type": "code",
      "source": [
        "n_top_words = 15\n",
        "topic_summaries = []\n",
        "for i, topic_dist in enumerate(topic_words):\n",
        "    topic_word = np.array(vocab2)[np.argsort(topic_dist)][:-(n_top_words+1):-1]\n",
        "    topic_summaries.append(' '.join(topic_word))\n",
        "\n",
        "topic_summaries"
      ],
      "metadata": {
        "colab": {
          "base_uri": "https://localhost:8080/"
        },
        "id": "I4Bp0jS686HN",
        "outputId": "822a425c-d76b-4e1b-bb75-91b58793911d"
      },
      "execution_count": null,
      "outputs": [
        {
          "output_type": "execute_result",
          "data": {
            "text/plain": [
              "['process questions home us time first recommend worked buying always refinance made work experience loan',\n",
              " 'beginning looking us able dream thanks home previous list explain helped still along years refi',\n",
              " 'jon loan everyone barrett awesome quick knowledgeable extremely recommend mortgage highly accurate would made answer',\n",
              " 'responsive service great work easy knowledgeable always helpful dallas quickly timely good since industry got',\n",
              " 'friendly job professional pleasure process throughout stephanie appreciated us well helpful great work team fast',\n",
              " 'great team excellent triumph experience everything home loan thank working professional recommend lender alex time',\n",
              " 'poor people alex appraisal company make mortgage loan works kory find called used expected officer',\n",
              " 'rate closing would bank loan get weeks read told phone give guaranteed one information credit',\n",
              " 'process entire best throughout response knowledgeable tree emailed far lending complicated mortgage companies kory extremely',\n",
              " 'jon best possible cant everyone ever fast nasb experience far dlj helpful refi broker financial']"
            ]
          },
          "metadata": {},
          "execution_count": 45
        }
      ]
    },
    {
      "cell_type": "markdown",
      "source": [
        "### Topic Models:\n",
        "1. Extremely well communication\n",
        "2. Friendly staff\n",
        "3. Great process\n",
        "4. Easy loan service\n",
        "5. Entirely professional experience\n",
        "6. Exceeded expectations\n",
        "7. Smooth and timely\n",
        "8. Responsive\n",
        "9. Home loan process\n",
        "10. Refinance process\n",
        "11. Loan closing cost\n",
        "12. Home Mortgage"
      ],
      "metadata": {
        "id": "F0yI7gK2-fUL"
      }
    },
    {
      "cell_type": "markdown",
      "source": [
        "# Segmentation\n",
        "\n",
        "#### using KMeans Clustering"
      ],
      "metadata": {
        "id": "NmCt9JEbtfr0"
      }
    },
    {
      "cell_type": "code",
      "source": [
        "km = KMeans(n_clusters=4, init='k-means++', max_iter=100, n_init=1, random_state=12345)"
      ],
      "metadata": {
        "id": "OdoZVJsXFp0d"
      },
      "execution_count": null,
      "outputs": []
    },
    {
      "cell_type": "code",
      "source": [
        "km = km.fit(train)\n",
        "km"
      ],
      "metadata": {
        "colab": {
          "base_uri": "https://localhost:8080/"
        },
        "id": "gC2Qw9OvGHal",
        "outputId": "50bdadb4-fbd5-4831-b17c-6f638da4d6ae"
      },
      "execution_count": null,
      "outputs": [
        {
          "output_type": "execute_result",
          "data": {
            "text/plain": [
              "KMeans(max_iter=100, n_clusters=4, n_init=1, random_state=12345)"
            ]
          },
          "metadata": {},
          "execution_count": 47
        }
      ]
    },
    {
      "cell_type": "code",
      "source": [
        "cluster_centers = np.array(km.cluster_centers_)"
      ],
      "metadata": {
        "id": "zoaMz1KKGmWq"
      },
      "execution_count": null,
      "outputs": []
    },
    {
      "cell_type": "code",
      "source": [
        "# sorting the cluster centers\n",
        "sorted_values = [km.cluster_centers_[i].argsort() for i in range(0,np.shape(km.cluster_centers_)[0])]"
      ],
      "metadata": {
        "id": "Xife8GuxIgNn"
      },
      "execution_count": null,
      "outputs": []
    },
    {
      "cell_type": "code",
      "source": [
        "# get top 10 words from that cluster\n",
        "top_words = set()\n",
        "for i in range(len(km.cluster_centers_)):\n",
        "    top_words = set(vocab2[sorted_values[i][-15:]])\n",
        "    print(top_words)"
      ],
      "metadata": {
        "colab": {
          "base_uri": "https://localhost:8080/"
        },
        "id": "ZWeX5TvdI42V",
        "outputId": "760b72fd-bc78-4e6c-f48e-3d3d55a4d84b"
      },
      "execution_count": null,
      "outputs": [
        {
          "output_type": "stream",
          "name": "stdout",
          "text": [
            "{'dallas', 'customer', 'friendly', 'best', 'helpful', 'team', 'working', 'service', 'great', 'professional', 'nasb', 'honest', 'experience', 'timely', 'excellent'}\n",
            "{'get', 'weeks', 'phone', 'closing', 'made', 'told', 'time', 'home', 'jon', 'read', 'always', 'rate', 'loan', 'process', 'would'}\n",
            "{'got', 'questions', 'responsive', 'recommend', 'work', 'time', 'us', 'great', 'easy', 'throughout', 'always', 'worked', 'knowledgeable', 'pleasure', 'process'}\n",
            "{'would', 'amazing', 'recommend', 'team', 'mortgage', 'home', 'us', 'step', 'way', 'highly', 'process', 'worked', 'loan', 'helped', 'every'}\n"
          ]
        }
      ]
    },
    {
      "cell_type": "code",
      "source": [
        "top_words=list(top_words)"
      ],
      "metadata": {
        "id": "x8HZsv96Jmvf"
      },
      "execution_count": null,
      "outputs": []
    },
    {
      "cell_type": "code",
      "source": [
        "data['cluster'] = km.labels_"
      ],
      "metadata": {
        "id": "pbcKKIh1JsEE"
      },
      "execution_count": null,
      "outputs": []
    },
    {
      "cell_type": "code",
      "source": [
        "data['cluster'].value_counts()/data.shape[0]"
      ],
      "metadata": {
        "colab": {
          "base_uri": "https://localhost:8080/"
        },
        "id": "3T7etd53JvJW",
        "outputId": "d040feb1-dd4f-43af-9bdb-5052fb54ffeb"
      },
      "execution_count": null,
      "outputs": [
        {
          "output_type": "execute_result",
          "data": {
            "text/plain": [
              "1    0.366337\n",
              "3    0.297030\n",
              "2    0.207921\n",
              "0    0.128713\n",
              "Name: cluster, dtype: float64"
            ]
          },
          "metadata": {},
          "execution_count": 53
        }
      ]
    },
    {
      "cell_type": "code",
      "source": [
        "data['Good'] = np.where(data.Stars==5, 1, 0)\n",
        "data['Bad'] = np.where(data.Stars==1, 1, 0)"
      ],
      "metadata": {
        "id": "p4enLTtnJQ8s"
      },
      "execution_count": null,
      "outputs": []
    },
    {
      "cell_type": "code",
      "source": [
        "data[['Stars', 'sentiment_value', 'cluster', 'Good', 'Bad']].groupby('cluster').mean()"
      ],
      "metadata": {
        "colab": {
          "base_uri": "https://localhost:8080/",
          "height": 206
        },
        "id": "YKZoXLeeKAhT",
        "outputId": "e37952d2-0f2c-4b7d-a3ad-7c79d07ff57c"
      },
      "execution_count": null,
      "outputs": [
        {
          "output_type": "execute_result",
          "data": {
            "text/html": [
              "\n",
              "  <div id=\"df-534bb83b-b8ed-4f95-a248-08f008e9b0aa\">\n",
              "    <div class=\"colab-df-container\">\n",
              "      <div>\n",
              "<style scoped>\n",
              "    .dataframe tbody tr th:only-of-type {\n",
              "        vertical-align: middle;\n",
              "    }\n",
              "\n",
              "    .dataframe tbody tr th {\n",
              "        vertical-align: top;\n",
              "    }\n",
              "\n",
              "    .dataframe thead th {\n",
              "        text-align: right;\n",
              "    }\n",
              "</style>\n",
              "<table border=\"1\" class=\"dataframe\">\n",
              "  <thead>\n",
              "    <tr style=\"text-align: right;\">\n",
              "      <th></th>\n",
              "      <th>Stars</th>\n",
              "      <th>sentiment_value</th>\n",
              "      <th>Good</th>\n",
              "      <th>Bad</th>\n",
              "    </tr>\n",
              "    <tr>\n",
              "      <th>cluster</th>\n",
              "      <th></th>\n",
              "      <th></th>\n",
              "      <th></th>\n",
              "      <th></th>\n",
              "    </tr>\n",
              "  </thead>\n",
              "  <tbody>\n",
              "    <tr>\n",
              "      <th>0</th>\n",
              "      <td>4.753846</td>\n",
              "      <td>0.367795</td>\n",
              "      <td>0.938462</td>\n",
              "      <td>0.061538</td>\n",
              "    </tr>\n",
              "    <tr>\n",
              "      <th>1</th>\n",
              "      <td>3.183784</td>\n",
              "      <td>0.144601</td>\n",
              "      <td>0.545946</td>\n",
              "      <td>0.454054</td>\n",
              "    </tr>\n",
              "    <tr>\n",
              "      <th>2</th>\n",
              "      <td>5.000000</td>\n",
              "      <td>0.398731</td>\n",
              "      <td>1.000000</td>\n",
              "      <td>0.000000</td>\n",
              "    </tr>\n",
              "    <tr>\n",
              "      <th>3</th>\n",
              "      <td>4.813333</td>\n",
              "      <td>0.255470</td>\n",
              "      <td>0.953333</td>\n",
              "      <td>0.046667</td>\n",
              "    </tr>\n",
              "  </tbody>\n",
              "</table>\n",
              "</div>\n",
              "      <button class=\"colab-df-convert\" onclick=\"convertToInteractive('df-534bb83b-b8ed-4f95-a248-08f008e9b0aa')\"\n",
              "              title=\"Convert this dataframe to an interactive table.\"\n",
              "              style=\"display:none;\">\n",
              "        \n",
              "  <svg xmlns=\"http://www.w3.org/2000/svg\" height=\"24px\"viewBox=\"0 0 24 24\"\n",
              "       width=\"24px\">\n",
              "    <path d=\"M0 0h24v24H0V0z\" fill=\"none\"/>\n",
              "    <path d=\"M18.56 5.44l.94 2.06.94-2.06 2.06-.94-2.06-.94-.94-2.06-.94 2.06-2.06.94zm-11 1L8.5 8.5l.94-2.06 2.06-.94-2.06-.94L8.5 2.5l-.94 2.06-2.06.94zm10 10l.94 2.06.94-2.06 2.06-.94-2.06-.94-.94-2.06-.94 2.06-2.06.94z\"/><path d=\"M17.41 7.96l-1.37-1.37c-.4-.4-.92-.59-1.43-.59-.52 0-1.04.2-1.43.59L10.3 9.45l-7.72 7.72c-.78.78-.78 2.05 0 2.83L4 21.41c.39.39.9.59 1.41.59.51 0 1.02-.2 1.41-.59l7.78-7.78 2.81-2.81c.8-.78.8-2.07 0-2.86zM5.41 20L4 18.59l7.72-7.72 1.47 1.35L5.41 20z\"/>\n",
              "  </svg>\n",
              "      </button>\n",
              "      \n",
              "  <style>\n",
              "    .colab-df-container {\n",
              "      display:flex;\n",
              "      flex-wrap:wrap;\n",
              "      gap: 12px;\n",
              "    }\n",
              "\n",
              "    .colab-df-convert {\n",
              "      background-color: #E8F0FE;\n",
              "      border: none;\n",
              "      border-radius: 50%;\n",
              "      cursor: pointer;\n",
              "      display: none;\n",
              "      fill: #1967D2;\n",
              "      height: 32px;\n",
              "      padding: 0 0 0 0;\n",
              "      width: 32px;\n",
              "    }\n",
              "\n",
              "    .colab-df-convert:hover {\n",
              "      background-color: #E2EBFA;\n",
              "      box-shadow: 0px 1px 2px rgba(60, 64, 67, 0.3), 0px 1px 3px 1px rgba(60, 64, 67, 0.15);\n",
              "      fill: #174EA6;\n",
              "    }\n",
              "\n",
              "    [theme=dark] .colab-df-convert {\n",
              "      background-color: #3B4455;\n",
              "      fill: #D2E3FC;\n",
              "    }\n",
              "\n",
              "    [theme=dark] .colab-df-convert:hover {\n",
              "      background-color: #434B5C;\n",
              "      box-shadow: 0px 1px 3px 1px rgba(0, 0, 0, 0.15);\n",
              "      filter: drop-shadow(0px 1px 2px rgba(0, 0, 0, 0.3));\n",
              "      fill: #FFFFFF;\n",
              "    }\n",
              "  </style>\n",
              "\n",
              "      <script>\n",
              "        const buttonEl =\n",
              "          document.querySelector('#df-534bb83b-b8ed-4f95-a248-08f008e9b0aa button.colab-df-convert');\n",
              "        buttonEl.style.display =\n",
              "          google.colab.kernel.accessAllowed ? 'block' : 'none';\n",
              "\n",
              "        async function convertToInteractive(key) {\n",
              "          const element = document.querySelector('#df-534bb83b-b8ed-4f95-a248-08f008e9b0aa');\n",
              "          const dataTable =\n",
              "            await google.colab.kernel.invokeFunction('convertToInteractive',\n",
              "                                                     [key], {});\n",
              "          if (!dataTable) return;\n",
              "\n",
              "          const docLinkHtml = 'Like what you see? Visit the ' +\n",
              "            '<a target=\"_blank\" href=https://colab.research.google.com/notebooks/data_table.ipynb>data table notebook</a>'\n",
              "            + ' to learn more about interactive tables.';\n",
              "          element.innerHTML = '';\n",
              "          dataTable['output_type'] = 'display_data';\n",
              "          await google.colab.output.renderOutput(dataTable, element);\n",
              "          const docLink = document.createElement('div');\n",
              "          docLink.innerHTML = docLinkHtml;\n",
              "          element.appendChild(docLink);\n",
              "        }\n",
              "      </script>\n",
              "    </div>\n",
              "  </div>\n",
              "  "
            ],
            "text/plain": [
              "            Stars  sentiment_value      Good       Bad\n",
              "cluster                                               \n",
              "0        4.753846         0.367795  0.938462  0.061538\n",
              "1        3.183784         0.144601  0.545946  0.454054\n",
              "2        5.000000         0.398731  1.000000  0.000000\n",
              "3        4.813333         0.255470  0.953333  0.046667"
            ]
          },
          "metadata": {},
          "execution_count": 55
        }
      ]
    },
    {
      "cell_type": "markdown",
      "source": [
        "### Insights:\n",
        "**Segment 1** : Consist of biggest cluster of reviews (36%) basically talking about how customer's experience was great, the banking team was friendly, helpful and professional. And the service was best and working. This segment have 88% good reviews with average sentiment value being 0.37.\n",
        "\n",
        "**Segment 2** : This segment consist 31% of the reviews among which 44% are bad reviews also this segment has the least average sentiment value i.e. 0.15 which shows that this cluster is a mix of positively and negatively intended reviews.\n",
        "Briefly, this segment is about home loan process taking too much time probably, weeks and about customers being unhappy about unreasonably high closing cost for loan.\n",
        "\n",
        "**Segment 3** : This segment has the highest average sentiment value i.e. 0.4 with 100% of the reviews being good. A small summary for this cluster of reviews will be the loan officer's team being knowledgeable and responsive and how the customer had great time throghout the process and they will recommend the bank to others.\n",
        "\n",
        "Segment 4 : This is smallest cluster of reviews (11%) which is basically talking about how the home loan process was amazing and the loan officer and his team had helped the customers at every step. And the customers would highly recommend the bank to others."
      ],
      "metadata": {
        "id": "4SBrS_ObAmo2"
      }
    },
    {
      "cell_type": "markdown",
      "source": [
        "### Troubleshoot\n",
        "\n",
        "This data has 505 reviews about 7 different banks which might just be the main cause of some incohorent Topic Models and Clusters because every bank can have its different pros and cons which are being talked about in Reviews by the customers. So it will only be appropriate to perform Topic Modelling and Clustering individually for different banks which is quite impossible here because of small sample size."
      ],
      "metadata": {
        "id": "4atmoxmfFkEK"
      }
    },
    {
      "cell_type": "markdown",
      "source": [
        "# Predicting Stars from Reviews"
      ],
      "metadata": {
        "id": "hXFlFwAl8-fD"
      }
    },
    {
      "cell_type": "markdown",
      "source": [
        "## Data Pre-Processing for Data Modelling"
      ],
      "metadata": {
        "id": "ZLnjzNE-Isdp"
      }
    },
    {
      "cell_type": "markdown",
      "source": [
        "#### Separating the Data into Features and Target"
      ],
      "metadata": {
        "id": "gKKS9ifYI4kH"
      }
    },
    {
      "cell_type": "code",
      "source": [
        "X = data['Reviews']\n",
        "y = data['Stars']"
      ],
      "metadata": {
        "id": "fDFvhbyA9dvD"
      },
      "execution_count": 19,
      "outputs": []
    },
    {
      "cell_type": "markdown",
      "source": [
        "#### Separating the Data into Train and Test"
      ],
      "metadata": {
        "id": "3zP0BONFJBum"
      }
    },
    {
      "cell_type": "code",
      "source": [
        "train_x, test_x, train_y, test_y = train_test_split(X, y, random_state=12345)"
      ],
      "metadata": {
        "id": "dfog_Zja9jnT"
      },
      "execution_count": 20,
      "outputs": []
    },
    {
      "cell_type": "code",
      "source": [
        "print(train_x.shape)\n",
        "print(test_x.shape)\n",
        "print(train_y.shape)\n",
        "print(test_y.shape)"
      ],
      "metadata": {
        "colab": {
          "base_uri": "https://localhost:8080/"
        },
        "id": "7p3ATudI9l2i",
        "outputId": "34718125-70f2-4bdd-c8b9-3480132eae67"
      },
      "execution_count": null,
      "outputs": [
        {
          "output_type": "stream",
          "name": "stdout",
          "text": [
            "(378,)\n",
            "(127,)\n",
            "(378,)\n",
            "(127,)\n"
          ]
        }
      ]
    },
    {
      "cell_type": "markdown",
      "source": [
        "#### Creating Tf-Idf DTMs ( Word Level Unigram )"
      ],
      "metadata": {
        "id": "Jijtt2L9JHuX"
      }
    },
    {
      "cell_type": "code",
      "source": [
        "tfidf_vect2 = TfidfVectorizer(min_df = 10, max_df=0.95,\n",
        "                             ngram_range=(1, 1), \n",
        "                             stop_words=eng_stopwords)"
      ],
      "metadata": {
        "id": "-gEz9agE-mlh"
      },
      "execution_count": 21,
      "outputs": []
    },
    {
      "cell_type": "code",
      "source": [
        "train_tfidf = tfidf_vect2.fit_transform(train_x)\n",
        "train_tfidf"
      ],
      "metadata": {
        "id": "nN9f5eLF-48A",
        "colab": {
          "base_uri": "https://localhost:8080/"
        },
        "outputId": "cd86c179-bf30-45ec-828f-c603c184fa71"
      },
      "execution_count": 22,
      "outputs": [
        {
          "output_type": "execute_result",
          "data": {
            "text/plain": [
              "<378x263 sparse matrix of type '<class 'numpy.float64'>'\n",
              "\twith 6669 stored elements in Compressed Sparse Row format>"
            ]
          },
          "metadata": {},
          "execution_count": 22
        }
      ]
    },
    {
      "cell_type": "code",
      "source": [
        "test_tfidf = tfidf_vect2.transform(test_x)\n",
        "test_tfidf"
      ],
      "metadata": {
        "id": "WZclU_qX_JWw",
        "colab": {
          "base_uri": "https://localhost:8080/"
        },
        "outputId": "22498434-fb6c-44df-e6fe-db60eb7467a1"
      },
      "execution_count": 23,
      "outputs": [
        {
          "output_type": "execute_result",
          "data": {
            "text/plain": [
              "<127x263 sparse matrix of type '<class 'numpy.float64'>'\n",
              "\twith 2345 stored elements in Compressed Sparse Row format>"
            ]
          },
          "metadata": {},
          "execution_count": 23
        }
      ]
    },
    {
      "cell_type": "code",
      "source": [
        "vocab3 = tfidf_vect2.get_feature_names()"
      ],
      "metadata": {
        "id": "jxsrDw2G_O6P"
      },
      "execution_count": 24,
      "outputs": []
    },
    {
      "cell_type": "code",
      "source": [
        "train_dtm = pd.DataFrame(train_tfidf.toarray(), columns=vocab3)\n",
        "train_dtm.head()"
      ],
      "metadata": {
        "colab": {
          "base_uri": "https://localhost:8080/",
          "height": 300
        },
        "id": "EVPW3esV_XPP",
        "outputId": "39107fb8-6b33-4d01-94dc-3d1513a9e2d0"
      },
      "execution_count": 25,
      "outputs": [
        {
          "output_type": "execute_result",
          "data": {
            "text/html": [
              "\n",
              "  <div id=\"df-1a15cf26-ad7c-45c5-86f4-2bdd0b5a7aa6\">\n",
              "    <div class=\"colab-df-container\">\n",
              "      <div>\n",
              "<style scoped>\n",
              "    .dataframe tbody tr th:only-of-type {\n",
              "        vertical-align: middle;\n",
              "    }\n",
              "\n",
              "    .dataframe tbody tr th {\n",
              "        vertical-align: top;\n",
              "    }\n",
              "\n",
              "    .dataframe thead th {\n",
              "        text-align: right;\n",
              "    }\n",
              "</style>\n",
              "<table border=\"1\" class=\"dataframe\">\n",
              "  <thead>\n",
              "    <tr style=\"text-align: right;\">\n",
              "      <th></th>\n",
              "      <th>able</th>\n",
              "      <th>adam</th>\n",
              "      <th>alex</th>\n",
              "      <th>almost</th>\n",
              "      <th>along</th>\n",
              "      <th>also</th>\n",
              "      <th>always</th>\n",
              "      <th>amazing</th>\n",
              "      <th>amount</th>\n",
              "      <th>another</th>\n",
              "      <th>answer</th>\n",
              "      <th>answered</th>\n",
              "      <th>answering</th>\n",
              "      <th>anyone</th>\n",
              "      <th>anything</th>\n",
              "      <th>application</th>\n",
              "      <th>around</th>\n",
              "      <th>ask</th>\n",
              "      <th>asked</th>\n",
              "      <th>available</th>\n",
              "      <th>awesome</th>\n",
              "      <th>back</th>\n",
              "      <th>banks</th>\n",
              "      <th>beginning</th>\n",
              "      <th>best</th>\n",
              "      <th>better</th>\n",
              "      <th>beyond</th>\n",
              "      <th>broker</th>\n",
              "      <th>business</th>\n",
              "      <th>buy</th>\n",
              "      <th>buying</th>\n",
              "      <th>call</th>\n",
              "      <th>called</th>\n",
              "      <th>calls</th>\n",
              "      <th>came</th>\n",
              "      <th>cant</th>\n",
              "      <th>care</th>\n",
              "      <th>chose</th>\n",
              "      <th>clear</th>\n",
              "      <th>close</th>\n",
              "      <th>...</th>\n",
              "      <th>stressful</th>\n",
              "      <th>sure</th>\n",
              "      <th>team</th>\n",
              "      <th>terms</th>\n",
              "      <th>thank</th>\n",
              "      <th>thanks</th>\n",
              "      <th>things</th>\n",
              "      <th>thought</th>\n",
              "      <th>throughout</th>\n",
              "      <th>time</th>\n",
              "      <th>timely</th>\n",
              "      <th>times</th>\n",
              "      <th>told</th>\n",
              "      <th>took</th>\n",
              "      <th>top</th>\n",
              "      <th>tree</th>\n",
              "      <th>two</th>\n",
              "      <th>understood</th>\n",
              "      <th>us</th>\n",
              "      <th>use</th>\n",
              "      <th>used</th>\n",
              "      <th>using</th>\n",
              "      <th>va</th>\n",
              "      <th>want</th>\n",
              "      <th>wanted</th>\n",
              "      <th>wasnt</th>\n",
              "      <th>way</th>\n",
              "      <th>week</th>\n",
              "      <th>weeks</th>\n",
              "      <th>well</th>\n",
              "      <th>went</th>\n",
              "      <th>whole</th>\n",
              "      <th>wife</th>\n",
              "      <th>within</th>\n",
              "      <th>without</th>\n",
              "      <th>work</th>\n",
              "      <th>worked</th>\n",
              "      <th>working</th>\n",
              "      <th>would</th>\n",
              "      <th>years</th>\n",
              "    </tr>\n",
              "  </thead>\n",
              "  <tbody>\n",
              "    <tr>\n",
              "      <th>0</th>\n",
              "      <td>0.0</td>\n",
              "      <td>0.0</td>\n",
              "      <td>0.0</td>\n",
              "      <td>0.0</td>\n",
              "      <td>0.0</td>\n",
              "      <td>0.000000</td>\n",
              "      <td>0.000000</td>\n",
              "      <td>0.000000</td>\n",
              "      <td>0.0</td>\n",
              "      <td>0.0</td>\n",
              "      <td>0.0</td>\n",
              "      <td>0.000000</td>\n",
              "      <td>0.0</td>\n",
              "      <td>0.000000</td>\n",
              "      <td>0.000000</td>\n",
              "      <td>0.0</td>\n",
              "      <td>0.0</td>\n",
              "      <td>0.0</td>\n",
              "      <td>0.000000</td>\n",
              "      <td>0.0</td>\n",
              "      <td>0.0</td>\n",
              "      <td>0.0</td>\n",
              "      <td>0.0</td>\n",
              "      <td>0.0</td>\n",
              "      <td>0.000000</td>\n",
              "      <td>0.0</td>\n",
              "      <td>0.0</td>\n",
              "      <td>0.0</td>\n",
              "      <td>0.0</td>\n",
              "      <td>0.000000</td>\n",
              "      <td>0.0</td>\n",
              "      <td>0.0</td>\n",
              "      <td>0.0</td>\n",
              "      <td>0.0</td>\n",
              "      <td>0.000000</td>\n",
              "      <td>0.0</td>\n",
              "      <td>0.0</td>\n",
              "      <td>0.0</td>\n",
              "      <td>0.0</td>\n",
              "      <td>0.0</td>\n",
              "      <td>...</td>\n",
              "      <td>0.0</td>\n",
              "      <td>0.0</td>\n",
              "      <td>0.0</td>\n",
              "      <td>0.0</td>\n",
              "      <td>0.0</td>\n",
              "      <td>0.000000</td>\n",
              "      <td>0.000000</td>\n",
              "      <td>0.00000</td>\n",
              "      <td>0.000000</td>\n",
              "      <td>0.000000</td>\n",
              "      <td>0.0</td>\n",
              "      <td>0.0</td>\n",
              "      <td>0.000000</td>\n",
              "      <td>0.0</td>\n",
              "      <td>0.000000</td>\n",
              "      <td>0.0</td>\n",
              "      <td>0.0</td>\n",
              "      <td>0.0</td>\n",
              "      <td>0.0</td>\n",
              "      <td>0.000000</td>\n",
              "      <td>0.0</td>\n",
              "      <td>0.0</td>\n",
              "      <td>0.0</td>\n",
              "      <td>0.0</td>\n",
              "      <td>0.000000</td>\n",
              "      <td>0.0</td>\n",
              "      <td>0.000000</td>\n",
              "      <td>0.0</td>\n",
              "      <td>0.000000</td>\n",
              "      <td>0.0</td>\n",
              "      <td>0.000000</td>\n",
              "      <td>0.000000</td>\n",
              "      <td>0.0</td>\n",
              "      <td>0.000000</td>\n",
              "      <td>0.0</td>\n",
              "      <td>0.0</td>\n",
              "      <td>0.0</td>\n",
              "      <td>0.0</td>\n",
              "      <td>0.000000</td>\n",
              "      <td>0.0</td>\n",
              "    </tr>\n",
              "    <tr>\n",
              "      <th>1</th>\n",
              "      <td>0.0</td>\n",
              "      <td>0.0</td>\n",
              "      <td>0.0</td>\n",
              "      <td>0.0</td>\n",
              "      <td>0.0</td>\n",
              "      <td>0.000000</td>\n",
              "      <td>0.000000</td>\n",
              "      <td>0.000000</td>\n",
              "      <td>0.0</td>\n",
              "      <td>0.0</td>\n",
              "      <td>0.0</td>\n",
              "      <td>0.000000</td>\n",
              "      <td>0.0</td>\n",
              "      <td>0.000000</td>\n",
              "      <td>0.000000</td>\n",
              "      <td>0.0</td>\n",
              "      <td>0.0</td>\n",
              "      <td>0.0</td>\n",
              "      <td>0.000000</td>\n",
              "      <td>0.0</td>\n",
              "      <td>0.0</td>\n",
              "      <td>0.0</td>\n",
              "      <td>0.0</td>\n",
              "      <td>0.0</td>\n",
              "      <td>0.322078</td>\n",
              "      <td>0.0</td>\n",
              "      <td>0.0</td>\n",
              "      <td>0.0</td>\n",
              "      <td>0.0</td>\n",
              "      <td>0.000000</td>\n",
              "      <td>0.0</td>\n",
              "      <td>0.0</td>\n",
              "      <td>0.0</td>\n",
              "      <td>0.0</td>\n",
              "      <td>0.000000</td>\n",
              "      <td>0.0</td>\n",
              "      <td>0.0</td>\n",
              "      <td>0.0</td>\n",
              "      <td>0.0</td>\n",
              "      <td>0.0</td>\n",
              "      <td>...</td>\n",
              "      <td>0.0</td>\n",
              "      <td>0.0</td>\n",
              "      <td>0.0</td>\n",
              "      <td>0.0</td>\n",
              "      <td>0.0</td>\n",
              "      <td>0.000000</td>\n",
              "      <td>0.000000</td>\n",
              "      <td>0.00000</td>\n",
              "      <td>0.000000</td>\n",
              "      <td>0.000000</td>\n",
              "      <td>0.0</td>\n",
              "      <td>0.0</td>\n",
              "      <td>0.000000</td>\n",
              "      <td>0.0</td>\n",
              "      <td>0.000000</td>\n",
              "      <td>0.0</td>\n",
              "      <td>0.0</td>\n",
              "      <td>0.0</td>\n",
              "      <td>0.0</td>\n",
              "      <td>0.000000</td>\n",
              "      <td>0.0</td>\n",
              "      <td>0.0</td>\n",
              "      <td>0.0</td>\n",
              "      <td>0.0</td>\n",
              "      <td>0.000000</td>\n",
              "      <td>0.0</td>\n",
              "      <td>0.000000</td>\n",
              "      <td>0.0</td>\n",
              "      <td>0.000000</td>\n",
              "      <td>0.0</td>\n",
              "      <td>0.000000</td>\n",
              "      <td>0.000000</td>\n",
              "      <td>0.0</td>\n",
              "      <td>0.000000</td>\n",
              "      <td>0.0</td>\n",
              "      <td>0.0</td>\n",
              "      <td>0.0</td>\n",
              "      <td>0.0</td>\n",
              "      <td>0.000000</td>\n",
              "      <td>0.0</td>\n",
              "    </tr>\n",
              "    <tr>\n",
              "      <th>2</th>\n",
              "      <td>0.0</td>\n",
              "      <td>0.0</td>\n",
              "      <td>0.0</td>\n",
              "      <td>0.0</td>\n",
              "      <td>0.0</td>\n",
              "      <td>0.000000</td>\n",
              "      <td>0.217997</td>\n",
              "      <td>0.000000</td>\n",
              "      <td>0.0</td>\n",
              "      <td>0.0</td>\n",
              "      <td>0.0</td>\n",
              "      <td>0.000000</td>\n",
              "      <td>0.0</td>\n",
              "      <td>0.108999</td>\n",
              "      <td>0.000000</td>\n",
              "      <td>0.0</td>\n",
              "      <td>0.0</td>\n",
              "      <td>0.0</td>\n",
              "      <td>0.000000</td>\n",
              "      <td>0.0</td>\n",
              "      <td>0.0</td>\n",
              "      <td>0.0</td>\n",
              "      <td>0.0</td>\n",
              "      <td>0.0</td>\n",
              "      <td>0.000000</td>\n",
              "      <td>0.0</td>\n",
              "      <td>0.0</td>\n",
              "      <td>0.0</td>\n",
              "      <td>0.0</td>\n",
              "      <td>0.144805</td>\n",
              "      <td>0.0</td>\n",
              "      <td>0.0</td>\n",
              "      <td>0.0</td>\n",
              "      <td>0.0</td>\n",
              "      <td>0.000000</td>\n",
              "      <td>0.0</td>\n",
              "      <td>0.0</td>\n",
              "      <td>0.0</td>\n",
              "      <td>0.0</td>\n",
              "      <td>0.0</td>\n",
              "      <td>...</td>\n",
              "      <td>0.0</td>\n",
              "      <td>0.0</td>\n",
              "      <td>0.0</td>\n",
              "      <td>0.0</td>\n",
              "      <td>0.0</td>\n",
              "      <td>0.000000</td>\n",
              "      <td>0.000000</td>\n",
              "      <td>0.16147</td>\n",
              "      <td>0.000000</td>\n",
              "      <td>0.167725</td>\n",
              "      <td>0.0</td>\n",
              "      <td>0.0</td>\n",
              "      <td>0.261487</td>\n",
              "      <td>0.0</td>\n",
              "      <td>0.000000</td>\n",
              "      <td>0.0</td>\n",
              "      <td>0.0</td>\n",
              "      <td>0.0</td>\n",
              "      <td>0.0</td>\n",
              "      <td>0.000000</td>\n",
              "      <td>0.0</td>\n",
              "      <td>0.0</td>\n",
              "      <td>0.0</td>\n",
              "      <td>0.0</td>\n",
              "      <td>0.317134</td>\n",
              "      <td>0.0</td>\n",
              "      <td>0.000000</td>\n",
              "      <td>0.0</td>\n",
              "      <td>0.261487</td>\n",
              "      <td>0.0</td>\n",
              "      <td>0.000000</td>\n",
              "      <td>0.142945</td>\n",
              "      <td>0.0</td>\n",
              "      <td>0.137877</td>\n",
              "      <td>0.0</td>\n",
              "      <td>0.0</td>\n",
              "      <td>0.0</td>\n",
              "      <td>0.0</td>\n",
              "      <td>0.000000</td>\n",
              "      <td>0.0</td>\n",
              "    </tr>\n",
              "    <tr>\n",
              "      <th>3</th>\n",
              "      <td>0.0</td>\n",
              "      <td>0.0</td>\n",
              "      <td>0.0</td>\n",
              "      <td>0.0</td>\n",
              "      <td>0.0</td>\n",
              "      <td>0.423489</td>\n",
              "      <td>0.000000</td>\n",
              "      <td>0.000000</td>\n",
              "      <td>0.0</td>\n",
              "      <td>0.0</td>\n",
              "      <td>0.0</td>\n",
              "      <td>0.000000</td>\n",
              "      <td>0.0</td>\n",
              "      <td>0.000000</td>\n",
              "      <td>0.000000</td>\n",
              "      <td>0.0</td>\n",
              "      <td>0.0</td>\n",
              "      <td>0.0</td>\n",
              "      <td>0.000000</td>\n",
              "      <td>0.0</td>\n",
              "      <td>0.0</td>\n",
              "      <td>0.0</td>\n",
              "      <td>0.0</td>\n",
              "      <td>0.0</td>\n",
              "      <td>0.000000</td>\n",
              "      <td>0.0</td>\n",
              "      <td>0.0</td>\n",
              "      <td>0.0</td>\n",
              "      <td>0.0</td>\n",
              "      <td>0.000000</td>\n",
              "      <td>0.0</td>\n",
              "      <td>0.0</td>\n",
              "      <td>0.0</td>\n",
              "      <td>0.0</td>\n",
              "      <td>0.000000</td>\n",
              "      <td>0.0</td>\n",
              "      <td>0.0</td>\n",
              "      <td>0.0</td>\n",
              "      <td>0.0</td>\n",
              "      <td>0.0</td>\n",
              "      <td>...</td>\n",
              "      <td>0.0</td>\n",
              "      <td>0.0</td>\n",
              "      <td>0.0</td>\n",
              "      <td>0.0</td>\n",
              "      <td>0.0</td>\n",
              "      <td>0.000000</td>\n",
              "      <td>0.000000</td>\n",
              "      <td>0.00000</td>\n",
              "      <td>0.432194</td>\n",
              "      <td>0.000000</td>\n",
              "      <td>0.0</td>\n",
              "      <td>0.0</td>\n",
              "      <td>0.000000</td>\n",
              "      <td>0.0</td>\n",
              "      <td>0.000000</td>\n",
              "      <td>0.0</td>\n",
              "      <td>0.0</td>\n",
              "      <td>0.0</td>\n",
              "      <td>0.0</td>\n",
              "      <td>0.000000</td>\n",
              "      <td>0.0</td>\n",
              "      <td>0.0</td>\n",
              "      <td>0.0</td>\n",
              "      <td>0.0</td>\n",
              "      <td>0.000000</td>\n",
              "      <td>0.0</td>\n",
              "      <td>0.000000</td>\n",
              "      <td>0.0</td>\n",
              "      <td>0.000000</td>\n",
              "      <td>0.0</td>\n",
              "      <td>0.000000</td>\n",
              "      <td>0.000000</td>\n",
              "      <td>0.0</td>\n",
              "      <td>0.000000</td>\n",
              "      <td>0.0</td>\n",
              "      <td>0.0</td>\n",
              "      <td>0.0</td>\n",
              "      <td>0.0</td>\n",
              "      <td>0.000000</td>\n",
              "      <td>0.0</td>\n",
              "    </tr>\n",
              "    <tr>\n",
              "      <th>4</th>\n",
              "      <td>0.0</td>\n",
              "      <td>0.0</td>\n",
              "      <td>0.0</td>\n",
              "      <td>0.0</td>\n",
              "      <td>0.0</td>\n",
              "      <td>0.000000</td>\n",
              "      <td>0.000000</td>\n",
              "      <td>0.157777</td>\n",
              "      <td>0.0</td>\n",
              "      <td>0.0</td>\n",
              "      <td>0.0</td>\n",
              "      <td>0.156011</td>\n",
              "      <td>0.0</td>\n",
              "      <td>0.000000</td>\n",
              "      <td>0.181454</td>\n",
              "      <td>0.0</td>\n",
              "      <td>0.0</td>\n",
              "      <td>0.0</td>\n",
              "      <td>0.170321</td>\n",
              "      <td>0.0</td>\n",
              "      <td>0.0</td>\n",
              "      <td>0.0</td>\n",
              "      <td>0.0</td>\n",
              "      <td>0.0</td>\n",
              "      <td>0.000000</td>\n",
              "      <td>0.0</td>\n",
              "      <td>0.0</td>\n",
              "      <td>0.0</td>\n",
              "      <td>0.0</td>\n",
              "      <td>0.000000</td>\n",
              "      <td>0.0</td>\n",
              "      <td>0.0</td>\n",
              "      <td>0.0</td>\n",
              "      <td>0.0</td>\n",
              "      <td>0.159622</td>\n",
              "      <td>0.0</td>\n",
              "      <td>0.0</td>\n",
              "      <td>0.0</td>\n",
              "      <td>0.0</td>\n",
              "      <td>0.0</td>\n",
              "      <td>...</td>\n",
              "      <td>0.0</td>\n",
              "      <td>0.0</td>\n",
              "      <td>0.0</td>\n",
              "      <td>0.0</td>\n",
              "      <td>0.0</td>\n",
              "      <td>0.129925</td>\n",
              "      <td>0.154317</td>\n",
              "      <td>0.00000</td>\n",
              "      <td>0.000000</td>\n",
              "      <td>0.000000</td>\n",
              "      <td>0.0</td>\n",
              "      <td>0.0</td>\n",
              "      <td>0.000000</td>\n",
              "      <td>0.0</td>\n",
              "      <td>0.170321</td>\n",
              "      <td>0.0</td>\n",
              "      <td>0.0</td>\n",
              "      <td>0.0</td>\n",
              "      <td>0.0</td>\n",
              "      <td>0.146751</td>\n",
              "      <td>0.0</td>\n",
              "      <td>0.0</td>\n",
              "      <td>0.0</td>\n",
              "      <td>0.0</td>\n",
              "      <td>0.000000</td>\n",
              "      <td>0.0</td>\n",
              "      <td>0.142796</td>\n",
              "      <td>0.0</td>\n",
              "      <td>0.000000</td>\n",
              "      <td>0.0</td>\n",
              "      <td>0.126391</td>\n",
              "      <td>0.000000</td>\n",
              "      <td>0.0</td>\n",
              "      <td>0.000000</td>\n",
              "      <td>0.0</td>\n",
              "      <td>0.0</td>\n",
              "      <td>0.0</td>\n",
              "      <td>0.0</td>\n",
              "      <td>0.090273</td>\n",
              "      <td>0.0</td>\n",
              "    </tr>\n",
              "  </tbody>\n",
              "</table>\n",
              "<p>5 rows × 263 columns</p>\n",
              "</div>\n",
              "      <button class=\"colab-df-convert\" onclick=\"convertToInteractive('df-1a15cf26-ad7c-45c5-86f4-2bdd0b5a7aa6')\"\n",
              "              title=\"Convert this dataframe to an interactive table.\"\n",
              "              style=\"display:none;\">\n",
              "        \n",
              "  <svg xmlns=\"http://www.w3.org/2000/svg\" height=\"24px\"viewBox=\"0 0 24 24\"\n",
              "       width=\"24px\">\n",
              "    <path d=\"M0 0h24v24H0V0z\" fill=\"none\"/>\n",
              "    <path d=\"M18.56 5.44l.94 2.06.94-2.06 2.06-.94-2.06-.94-.94-2.06-.94 2.06-2.06.94zm-11 1L8.5 8.5l.94-2.06 2.06-.94-2.06-.94L8.5 2.5l-.94 2.06-2.06.94zm10 10l.94 2.06.94-2.06 2.06-.94-2.06-.94-.94-2.06-.94 2.06-2.06.94z\"/><path d=\"M17.41 7.96l-1.37-1.37c-.4-.4-.92-.59-1.43-.59-.52 0-1.04.2-1.43.59L10.3 9.45l-7.72 7.72c-.78.78-.78 2.05 0 2.83L4 21.41c.39.39.9.59 1.41.59.51 0 1.02-.2 1.41-.59l7.78-7.78 2.81-2.81c.8-.78.8-2.07 0-2.86zM5.41 20L4 18.59l7.72-7.72 1.47 1.35L5.41 20z\"/>\n",
              "  </svg>\n",
              "      </button>\n",
              "      \n",
              "  <style>\n",
              "    .colab-df-container {\n",
              "      display:flex;\n",
              "      flex-wrap:wrap;\n",
              "      gap: 12px;\n",
              "    }\n",
              "\n",
              "    .colab-df-convert {\n",
              "      background-color: #E8F0FE;\n",
              "      border: none;\n",
              "      border-radius: 50%;\n",
              "      cursor: pointer;\n",
              "      display: none;\n",
              "      fill: #1967D2;\n",
              "      height: 32px;\n",
              "      padding: 0 0 0 0;\n",
              "      width: 32px;\n",
              "    }\n",
              "\n",
              "    .colab-df-convert:hover {\n",
              "      background-color: #E2EBFA;\n",
              "      box-shadow: 0px 1px 2px rgba(60, 64, 67, 0.3), 0px 1px 3px 1px rgba(60, 64, 67, 0.15);\n",
              "      fill: #174EA6;\n",
              "    }\n",
              "\n",
              "    [theme=dark] .colab-df-convert {\n",
              "      background-color: #3B4455;\n",
              "      fill: #D2E3FC;\n",
              "    }\n",
              "\n",
              "    [theme=dark] .colab-df-convert:hover {\n",
              "      background-color: #434B5C;\n",
              "      box-shadow: 0px 1px 3px 1px rgba(0, 0, 0, 0.15);\n",
              "      filter: drop-shadow(0px 1px 2px rgba(0, 0, 0, 0.3));\n",
              "      fill: #FFFFFF;\n",
              "    }\n",
              "  </style>\n",
              "\n",
              "      <script>\n",
              "        const buttonEl =\n",
              "          document.querySelector('#df-1a15cf26-ad7c-45c5-86f4-2bdd0b5a7aa6 button.colab-df-convert');\n",
              "        buttonEl.style.display =\n",
              "          google.colab.kernel.accessAllowed ? 'block' : 'none';\n",
              "\n",
              "        async function convertToInteractive(key) {\n",
              "          const element = document.querySelector('#df-1a15cf26-ad7c-45c5-86f4-2bdd0b5a7aa6');\n",
              "          const dataTable =\n",
              "            await google.colab.kernel.invokeFunction('convertToInteractive',\n",
              "                                                     [key], {});\n",
              "          if (!dataTable) return;\n",
              "\n",
              "          const docLinkHtml = 'Like what you see? Visit the ' +\n",
              "            '<a target=\"_blank\" href=https://colab.research.google.com/notebooks/data_table.ipynb>data table notebook</a>'\n",
              "            + ' to learn more about interactive tables.';\n",
              "          element.innerHTML = '';\n",
              "          dataTable['output_type'] = 'display_data';\n",
              "          await google.colab.output.renderOutput(dataTable, element);\n",
              "          const docLink = document.createElement('div');\n",
              "          docLink.innerHTML = docLinkHtml;\n",
              "          element.appendChild(docLink);\n",
              "        }\n",
              "      </script>\n",
              "    </div>\n",
              "  </div>\n",
              "  "
            ],
            "text/plain": [
              "   able  adam  alex  almost  along  ...  work  worked  working     would  years\n",
              "0   0.0   0.0   0.0     0.0    0.0  ...   0.0     0.0      0.0  0.000000    0.0\n",
              "1   0.0   0.0   0.0     0.0    0.0  ...   0.0     0.0      0.0  0.000000    0.0\n",
              "2   0.0   0.0   0.0     0.0    0.0  ...   0.0     0.0      0.0  0.000000    0.0\n",
              "3   0.0   0.0   0.0     0.0    0.0  ...   0.0     0.0      0.0  0.000000    0.0\n",
              "4   0.0   0.0   0.0     0.0    0.0  ...   0.0     0.0      0.0  0.090273    0.0\n",
              "\n",
              "[5 rows x 263 columns]"
            ]
          },
          "metadata": {},
          "execution_count": 25
        }
      ]
    },
    {
      "cell_type": "code",
      "source": [
        "train_dtm.shape"
      ],
      "metadata": {
        "colab": {
          "base_uri": "https://localhost:8080/"
        },
        "id": "SdCKgqsc_r9u",
        "outputId": "da326ee6-e4f6-484b-8744-232047e38210"
      },
      "execution_count": null,
      "outputs": [
        {
          "output_type": "execute_result",
          "data": {
            "text/plain": [
              "(378, 263)"
            ]
          },
          "metadata": {},
          "execution_count": 32
        }
      ]
    },
    {
      "cell_type": "markdown",
      "source": [
        "#### Target is imbalanced"
      ],
      "metadata": {
        "id": "ygd4___ZATio"
      }
    },
    {
      "cell_type": "code",
      "source": [
        "with plt.style.context('dark_background'):\n",
        "  plt.figure(figsize=(8,8))\n",
        "  plt.pie(train_y.value_counts(), autopct='%.1f%%', labels=['5 Stars', '1 Star'], colors=['g', 'r'])\n",
        "  plt.title('Train Data Classes Composition')\n",
        "  plt.show()"
      ],
      "metadata": {
        "colab": {
          "base_uri": "https://localhost:8080/",
          "height": 486
        },
        "id": "vqgXTtYBB2aL",
        "outputId": "7a9fdd92-7046-4a2c-b52d-048f4e3ee125"
      },
      "execution_count": null,
      "outputs": [
        {
          "output_type": "display_data",
          "data": {
            "image/png": "[encoded data removed]",
            "text/plain": [
              "<Figure size 576x576 with 1 Axes>"
            ]
          },
          "metadata": {}
        }
      ]
    },
    {
      "cell_type": "markdown",
      "source": [
        "### Balancing the Data by OverSampling\n",
        "\n",
        "####using RandomOverSampler"
      ],
      "metadata": {
        "id": "7QxHVSnSJoJn"
      }
    },
    {
      "cell_type": "code",
      "source": [
        "ros = RandomOverSampler(random_state=12345)"
      ],
      "metadata": {
        "id": "tHiUZvlHCIg6"
      },
      "execution_count": 26,
      "outputs": []
    },
    {
      "cell_type": "code",
      "source": [
        "train_tfidf_os, train_y_os = ros.fit_resample(train_tfidf, train_y)"
      ],
      "metadata": {
        "id": "-KCeF5afDExn"
      },
      "execution_count": 27,
      "outputs": []
    },
    {
      "cell_type": "code",
      "source": [
        "print(train_tfidf_os.shape)\n",
        "print(train_y_os.shape)"
      ],
      "metadata": {
        "colab": {
          "base_uri": "https://localhost:8080/"
        },
        "id": "urrKo9RnDFxI",
        "outputId": "6c635990-dfc5-47d8-86a0-5b1aefa96d18"
      },
      "execution_count": 28,
      "outputs": [
        {
          "output_type": "stream",
          "name": "stdout",
          "text": [
            "(632, 263)\n",
            "(632,)\n"
          ]
        }
      ]
    },
    {
      "cell_type": "code",
      "source": [
        "with plt.style.context('dark_background'):\n",
        "  plt.figure(figsize=(8,8))\n",
        "  plt.pie(train_y_os.value_counts(), autopct='%d%%', labels=['5 Stars','1 Star'], colors=['g', 'r'])\n",
        "  plt.title('Train Data Classes Composition after Over Sampling')\n",
        "  plt.show()"
      ],
      "metadata": {
        "colab": {
          "base_uri": "https://localhost:8080/",
          "height": 486
        },
        "id": "EhKePxRWDRxY",
        "outputId": "6cf9a2ea-5b43-4cbc-eb20-d1b915a368d8"
      },
      "execution_count": null,
      "outputs": [
        {
          "output_type": "display_data",
          "data": {
            "image/png": "[encoded data removed]",
            "text/plain": [
              "<Figure size 576x576 with 1 Axes>"
            ]
          },
          "metadata": {}
        }
      ]
    },
    {
      "cell_type": "markdown",
      "source": [
        "Data is balanced now, So we will move onto our next and final step i.e. Data Modeling"
      ],
      "metadata": {
        "id": "vSq7VI9nJ8pk"
      }
    },
    {
      "cell_type": "markdown",
      "source": [
        "## Data Modelling\n",
        "\n",
        "#### using\n",
        "*   Logistic Regression\n",
        "*   Bernoulli's Naive Bayes\n",
        "*   Linear Support Vector Machine\n",
        "\n"
      ],
      "metadata": {
        "id": "0GF-SkEJKGBk"
      }
    },
    {
      "cell_type": "markdown",
      "source": [
        "### Logistic Regression"
      ],
      "metadata": {
        "id": "RLhe2o8BEFPX"
      }
    },
    {
      "cell_type": "code",
      "source": [
        "logreg_clf = LogisticRegression(random_state=12345)"
      ],
      "metadata": {
        "id": "HwsKjNgSDceX"
      },
      "execution_count": 29,
      "outputs": []
    },
    {
      "cell_type": "code",
      "source": [
        "logreg_clf.fit(train_tfidf_os, train_y_os)"
      ],
      "metadata": {
        "colab": {
          "base_uri": "https://localhost:8080/"
        },
        "id": "SR7CztyCDsAm",
        "outputId": "a71bbf36-7053-45fb-9874-d019b064c6d5"
      },
      "execution_count": 30,
      "outputs": [
        {
          "output_type": "execute_result",
          "data": {
            "text/plain": [
              "LogisticRegression(random_state=12345)"
            ]
          },
          "metadata": {},
          "execution_count": 30
        }
      ]
    },
    {
      "cell_type": "code",
      "source": [
        "print('Train Accuracy :',accuracy_score(train_y_os, logreg_clf.predict(train_tfidf_os)),' | ','Test Accuracy :',accuracy_score(test_y, logreg_clf.predict(test_tfidf)))"
      ],
      "metadata": {
        "colab": {
          "base_uri": "https://localhost:8080/"
        },
        "id": "kAf-7sOLDxUW",
        "outputId": "649acf4d-3773-4f6f-f04a-e799f5273056"
      },
      "execution_count": 31,
      "outputs": [
        {
          "output_type": "stream",
          "name": "stdout",
          "text": [
            "Train Accuracy : 0.9762658227848101  |  Test Accuracy : 0.968503937007874\n"
          ]
        }
      ]
    },
    {
      "cell_type": "code",
      "source": [
        "print('Train AUC:',roc_auc_score(train_y_os, logreg_clf.predict_proba(train_tfidf_os)[:,1]),' | ','Test AUC :',roc_auc_score(test_y, logreg_clf.predict_proba(test_tfidf)[:,1]))"
      ],
      "metadata": {
        "colab": {
          "base_uri": "https://localhost:8080/"
        },
        "id": "XG3rv7CAEVGl",
        "outputId": "52d33e92-8ef6-4774-e66b-d66dd61d7e44"
      },
      "execution_count": 32,
      "outputs": [
        {
          "output_type": "stream",
          "name": "stdout",
          "text": [
            "Train AUC: 0.9949927896170485  |  Test AUC : 0.988394584139265\n"
          ]
        }
      ]
    },
    {
      "cell_type": "code",
      "source": [
        "logreg_acc = accuracy_score(test_y, logreg_clf.predict(test_tfidf))\n",
        "logreg_auc = roc_auc_score(test_y, logreg_clf.predict_proba(test_tfidf)[:,1])"
      ],
      "metadata": {
        "id": "b55RLXIhLSlx"
      },
      "execution_count": 33,
      "outputs": []
    },
    {
      "cell_type": "code",
      "source": [
        "print(classification_report(test_y, logreg_clf.predict(test_tfidf)))"
      ],
      "metadata": {
        "id": "-dWd3v4Pzn8w"
      },
      "execution_count": null,
      "outputs": []
    },
    {
      "cell_type": "code",
      "source": [
        "cm_logreg = confusion_matrix(test_y, logreg_clf.predict(test_tfidf), labels=[5,1])\n",
        "with plt.style.context('dark_background'):\n",
        "  plt.figure(figsize=(8,6))\n",
        "  sns.heatmap(cm_logreg, annot=True,  fmt='.1f', xticklabels = [\"5 Stars\", \"1 Star\"] , yticklabels = [\"5 Stars\", \"1 Star\"] )\n",
        "  plt.ylabel('Actual Labels')\n",
        "  plt.xlabel('Predicted Labels')\n",
        "  plt.title('Confusion Matrix for Predictions by Logistic Regression')\n",
        "  plt.show()"
      ],
      "metadata": {
        "id": "4dLO-F2-Nwrd",
        "colab": {
          "base_uri": "https://localhost:8080/",
          "height": 418
        },
        "outputId": "a284f072-d482-4357-cb23-f3786a197ebb"
      },
      "execution_count": 41,
      "outputs": [
        {
          "output_type": "display_data",
          "data": {
            "image/png": "[encoded data removed]",
            "text/plain": [
              "<Figure size 576x432 with 2 Axes>"
            ]
          },
          "metadata": {}
        }
      ]
    },
    {
      "cell_type": "markdown",
      "source": [
        "### Bernoulli Naive Bayes"
      ],
      "metadata": {
        "id": "_i2mxyNMHDqe"
      }
    },
    {
      "cell_type": "code",
      "source": [
        "nb_clf = BernoulliNB()"
      ],
      "metadata": {
        "id": "viqlruhOHJlf"
      },
      "execution_count": 43,
      "outputs": []
    },
    {
      "cell_type": "code",
      "source": [
        "nb_clf.fit(train_tfidf_os, train_y_os)"
      ],
      "metadata": {
        "colab": {
          "base_uri": "https://localhost:8080/"
        },
        "outputId": "af39c807-30e7-4207-90e7-70afdcf31873",
        "id": "8RjTIStxHAa-"
      },
      "execution_count": 44,
      "outputs": [
        {
          "output_type": "execute_result",
          "data": {
            "text/plain": [
              "BernoulliNB()"
            ]
          },
          "metadata": {},
          "execution_count": 44
        }
      ]
    },
    {
      "cell_type": "code",
      "source": [
        "print('Train Accuracy :',accuracy_score(train_y_os, nb_clf.predict(train_tfidf_os)),' | ','Test Accuracy :',accuracy_score(test_y, nb_clf.predict(test_tfidf)))"
      ],
      "metadata": {
        "colab": {
          "base_uri": "https://localhost:8080/"
        },
        "outputId": "3be44abd-e712-42ca-8614-652fd23e8acd",
        "id": "n-UX6z4ZHAa-"
      },
      "execution_count": 45,
      "outputs": [
        {
          "output_type": "stream",
          "name": "stdout",
          "text": [
            "Train Accuracy : 0.8623417721518988  |  Test Accuracy : 0.9291338582677166\n"
          ]
        }
      ]
    },
    {
      "cell_type": "code",
      "source": [
        "print('Train AUC:',roc_auc_score(train_y_os, nb_clf.predict_proba(train_tfidf_os)[:,1]),' | ','Test AUC :',roc_auc_score(test_y, nb_clf.predict_proba(test_tfidf)[:,1]))"
      ],
      "metadata": {
        "colab": {
          "base_uri": "https://localhost:8080/"
        },
        "outputId": "5f76be61-26ff-4ae6-b3b7-d53fe9beb3b5",
        "id": "KXb6B8YPHAa-"
      },
      "execution_count": 46,
      "outputs": [
        {
          "output_type": "stream",
          "name": "stdout",
          "text": [
            "Train AUC: 0.9703773433744592  |  Test AUC : 0.9732430689877498\n"
          ]
        }
      ]
    },
    {
      "cell_type": "code",
      "source": [
        "nb_acc = accuracy_score(test_y, nb_clf.predict(test_tfidf))\n",
        "nb_auc = roc_auc_score(test_y, nb_clf.predict_proba(test_tfidf)[:,1])"
      ],
      "metadata": {
        "id": "WMhMwNhIKhQS"
      },
      "execution_count": 50,
      "outputs": []
    },
    {
      "cell_type": "code",
      "source": [
        "print(classification_report(test_y, nb_clf.predict(test_tfidf)))"
      ],
      "metadata": {
        "colab": {
          "base_uri": "https://localhost:8080/"
        },
        "id": "VpqHcvw70Tru",
        "outputId": "9afe4364-855c-4575-c825-bb45bfcefde4"
      },
      "execution_count": 66,
      "outputs": [
        {
          "output_type": "stream",
          "name": "stdout",
          "text": [
            "              precision    recall  f1-score   support\n",
            "\n",
            "           1       0.96      0.76      0.85        33\n",
            "           5       0.92      0.99      0.95        94\n",
            "\n",
            "    accuracy                           0.93       127\n",
            "   macro avg       0.94      0.87      0.90       127\n",
            "weighted avg       0.93      0.93      0.93       127\n",
            "\n"
          ]
        }
      ]
    },
    {
      "cell_type": "code",
      "source": [
        "cm_nb = confusion_matrix(test_y, nb_clf.predict(test_tfidf), labels=[5,1])\n",
        "with plt.style.context('dark_background'):\n",
        "  plt.figure(figsize=(8,6))\n",
        "  sns.heatmap(cm_logreg, annot=True,  fmt='.1f', xticklabels = [\"5 Stars\", \"1 Star\"] , yticklabels = [\"5 Stars\", \"1 Star\"] )\n",
        "  plt.ylabel('Actual Labels')\n",
        "  plt.xlabel('Predicted Labels')\n",
        "  plt.title('Confusion Matrix for Predictions by Naive Bayes')\n",
        "  plt.show()"
      ],
      "metadata": {
        "colab": {
          "base_uri": "https://localhost:8080/",
          "height": 418
        },
        "outputId": "1481c051-c961-4eb6-d712-89c5466a7fd0",
        "id": "JPn4on5AHAa_"
      },
      "execution_count": null,
      "outputs": [
        {
          "output_type": "display_data",
          "data": {
            "image/png": "[encoded data removed]",
            "text/plain": [
              "<Figure size 576x432 with 2 Axes>"
            ]
          },
          "metadata": {}
        }
      ]
    },
    {
      "cell_type": "markdown",
      "source": [
        "### Linear Support Vector Machine"
      ],
      "metadata": {
        "id": "bn2Nej26G_cR"
      }
    },
    {
      "cell_type": "code",
      "source": [
        "lsvc = SVC(kernel='linear', gamma='auto', probability=True)"
      ],
      "metadata": {
        "id": "MDo3p_4CHZZP"
      },
      "execution_count": 57,
      "outputs": []
    },
    {
      "cell_type": "code",
      "source": [
        "lsvc.fit(train_tfidf_os, train_y_os)"
      ],
      "metadata": {
        "colab": {
          "base_uri": "https://localhost:8080/"
        },
        "outputId": "4f08bce7-eb4a-44cb-aa27-b837a1aeeef5",
        "id": "rkkRMD_OHDEd"
      },
      "execution_count": 58,
      "outputs": [
        {
          "output_type": "execute_result",
          "data": {
            "text/plain": [
              "SVC(gamma='auto', kernel='linear', probability=True)"
            ]
          },
          "metadata": {},
          "execution_count": 58
        }
      ]
    },
    {
      "cell_type": "code",
      "source": [
        "print('Train Accuracy :',accuracy_score(train_y_os, lsvc.predict(train_tfidf_os)),' | ','Test Accuracy :',accuracy_score(test_y, lsvc.predict(test_tfidf)))"
      ],
      "metadata": {
        "colab": {
          "base_uri": "https://localhost:8080/"
        },
        "outputId": "2ee44f35-0391-4fee-b1f9-d73e938ee447",
        "id": "JvcvibNYHDEd"
      },
      "execution_count": 60,
      "outputs": [
        {
          "output_type": "stream",
          "name": "stdout",
          "text": [
            "Train Accuracy : 0.9889240506329114  |  Test Accuracy : 0.9448818897637795\n"
          ]
        }
      ]
    },
    {
      "cell_type": "code",
      "source": [
        "print('Train AUC:',roc_auc_score(train_y_os, lsvc.predict_proba(train_tfidf_os)[:,1]),' | ','Test AUC :',roc_auc_score(test_y, lsvc.predict_proba(test_tfidf)[:,1]))"
      ],
      "metadata": {
        "colab": {
          "base_uri": "https://localhost:8080/"
        },
        "outputId": "6256de80-7628-439f-b9bd-707afdb48fb9",
        "id": "r3urTGhhHDEe"
      },
      "execution_count": 59,
      "outputs": [
        {
          "output_type": "stream",
          "name": "stdout",
          "text": [
            "Train AUC: 0.9966051113603589  |  Test AUC : 0.9835589941972921\n"
          ]
        }
      ]
    },
    {
      "cell_type": "code",
      "source": [
        "lsvc_acc = accuracy_score(test_y, lsvc.predict(test_tfidf))\n",
        "lsvc_auc = roc_auc_score(test_y, lsvc.predict_proba(test_tfidf)[:,1])"
      ],
      "metadata": {
        "id": "9wSHNhlEKuxy"
      },
      "execution_count": 61,
      "outputs": []
    },
    {
      "cell_type": "code",
      "source": [
        "print(classification_report(test_y, lsvc.predict(test_tfidf)))"
      ],
      "metadata": {
        "colab": {
          "base_uri": "https://localhost:8080/"
        },
        "id": "SmOmf7yL1MLc",
        "outputId": "6b97763a-f991-4d6d-ba90-6c1ddf5e3f5d"
      },
      "execution_count": 63,
      "outputs": [
        {
          "output_type": "stream",
          "name": "stdout",
          "text": [
            "              precision    recall  f1-score   support\n",
            "\n",
            "           1       0.88      0.91      0.90        33\n",
            "           5       0.97      0.96      0.96        94\n",
            "\n",
            "    accuracy                           0.94       127\n",
            "   macro avg       0.93      0.93      0.93       127\n",
            "weighted avg       0.95      0.94      0.95       127\n",
            "\n"
          ]
        }
      ]
    },
    {
      "cell_type": "code",
      "source": [
        "cm_lsvc = confusion_matrix(test_y, lsvc.predict(test_tfidf), labels=[5,1])\n",
        "with plt.style.context('dark_background'):\n",
        "  plt.figure(figsize=(8,6))\n",
        "  sns.heatmap(cm_logreg, annot=True,  fmt='.1f', xticklabels = [\"5 Stars\", \"1 Star\"] , yticklabels = [\"5 Stars\", \"1 Star\"] )\n",
        "  plt.ylabel('Actual Labels')\n",
        "  plt.xlabel('Predicted Labels')\n",
        "  plt.title('Confusion Matrix for Predictions by Linear Support Vector Machine')\n",
        "  plt.show()"
      ],
      "metadata": {
        "colab": {
          "base_uri": "https://localhost:8080/",
          "height": 418
        },
        "outputId": "103b7fcd-22be-4d83-fc10-ba8dda0479e7",
        "id": "9amF-7MBHDEe"
      },
      "execution_count": 62,
      "outputs": [
        {
          "output_type": "display_data",
          "data": {
            "image/png": "[encoded data removed]",
            "text/plain": [
              "<Figure size 576x432 with 2 Axes>"
            ]
          },
          "metadata": {}
        }
      ]
    },
    {
      "cell_type": "markdown",
      "source": [
        "## Conclusion:"
      ],
      "metadata": {
        "id": "Zx450kk4Iq6Q"
      }
    },
    {
      "cell_type": "code",
      "source": [
        "pd.DataFrame({'Test Accuracy': [logreg_acc, nb_acc, lsvc_acc],\n",
        "             'Test AUC': [logreg_auc, nb_auc, lsvc_auc]}, index=['Logistic Regression', 'Naive Bayes', 'Linear SVC'])"
      ],
      "metadata": {
        "colab": {
          "base_uri": "https://localhost:8080/",
          "height": 144
        },
        "id": "e9ufdhJeKeDU",
        "outputId": "f89a63ec-090c-400b-b2a3-a6bac478ed52"
      },
      "execution_count": 64,
      "outputs": [
        {
          "output_type": "execute_result",
          "data": {
            "text/html": [
              "\n",
              "  <div id=\"df-a030827b-3b4d-4af5-b819-59e63c9b8102\">\n",
              "    <div class=\"colab-df-container\">\n",
              "      <div>\n",
              "<style scoped>\n",
              "    .dataframe tbody tr th:only-of-type {\n",
              "        vertical-align: middle;\n",
              "    }\n",
              "\n",
              "    .dataframe tbody tr th {\n",
              "        vertical-align: top;\n",
              "    }\n",
              "\n",
              "    .dataframe thead th {\n",
              "        text-align: right;\n",
              "    }\n",
              "</style>\n",
              "<table border=\"1\" class=\"dataframe\">\n",
              "  <thead>\n",
              "    <tr style=\"text-align: right;\">\n",
              "      <th></th>\n",
              "      <th>Test Accuracy</th>\n",
              "      <th>Test AUC</th>\n",
              "    </tr>\n",
              "  </thead>\n",
              "  <tbody>\n",
              "    <tr>\n",
              "      <th>Logistic Regression</th>\n",
              "      <td>0.968504</td>\n",
              "      <td>0.988395</td>\n",
              "    </tr>\n",
              "    <tr>\n",
              "      <th>Naive Bayes</th>\n",
              "      <td>0.929134</td>\n",
              "      <td>0.973243</td>\n",
              "    </tr>\n",
              "    <tr>\n",
              "      <th>Linear SVC</th>\n",
              "      <td>0.944882</td>\n",
              "      <td>0.983559</td>\n",
              "    </tr>\n",
              "  </tbody>\n",
              "</table>\n",
              "</div>\n",
              "      <button class=\"colab-df-convert\" onclick=\"convertToInteractive('df-a030827b-3b4d-4af5-b819-59e63c9b8102')\"\n",
              "              title=\"Convert this dataframe to an interactive table.\"\n",
              "              style=\"display:none;\">\n",
              "        \n",
              "  <svg xmlns=\"http://www.w3.org/2000/svg\" height=\"24px\"viewBox=\"0 0 24 24\"\n",
              "       width=\"24px\">\n",
              "    <path d=\"M0 0h24v24H0V0z\" fill=\"none\"/>\n",
              "    <path d=\"M18.56 5.44l.94 2.06.94-2.06 2.06-.94-2.06-.94-.94-2.06-.94 2.06-2.06.94zm-11 1L8.5 8.5l.94-2.06 2.06-.94-2.06-.94L8.5 2.5l-.94 2.06-2.06.94zm10 10l.94 2.06.94-2.06 2.06-.94-2.06-.94-.94-2.06-.94 2.06-2.06.94z\"/><path d=\"M17.41 7.96l-1.37-1.37c-.4-.4-.92-.59-1.43-.59-.52 0-1.04.2-1.43.59L10.3 9.45l-7.72 7.72c-.78.78-.78 2.05 0 2.83L4 21.41c.39.39.9.59 1.41.59.51 0 1.02-.2 1.41-.59l7.78-7.78 2.81-2.81c.8-.78.8-2.07 0-2.86zM5.41 20L4 18.59l7.72-7.72 1.47 1.35L5.41 20z\"/>\n",
              "  </svg>\n",
              "      </button>\n",
              "      \n",
              "  <style>\n",
              "    .colab-df-container {\n",
              "      display:flex;\n",
              "      flex-wrap:wrap;\n",
              "      gap: 12px;\n",
              "    }\n",
              "\n",
              "    .colab-df-convert {\n",
              "      background-color: #E8F0FE;\n",
              "      border: none;\n",
              "      border-radius: 50%;\n",
              "      cursor: pointer;\n",
              "      display: none;\n",
              "      fill: #1967D2;\n",
              "      height: 32px;\n",
              "      padding: 0 0 0 0;\n",
              "      width: 32px;\n",
              "    }\n",
              "\n",
              "    .colab-df-convert:hover {\n",
              "      background-color: #E2EBFA;\n",
              "      box-shadow: 0px 1px 2px rgba(60, 64, 67, 0.3), 0px 1px 3px 1px rgba(60, 64, 67, 0.15);\n",
              "      fill: #174EA6;\n",
              "    }\n",
              "\n",
              "    [theme=dark] .colab-df-convert {\n",
              "      background-color: #3B4455;\n",
              "      fill: #D2E3FC;\n",
              "    }\n",
              "\n",
              "    [theme=dark] .colab-df-convert:hover {\n",
              "      background-color: #434B5C;\n",
              "      box-shadow: 0px 1px 3px 1px rgba(0, 0, 0, 0.15);\n",
              "      filter: drop-shadow(0px 1px 2px rgba(0, 0, 0, 0.3));\n",
              "      fill: #FFFFFF;\n",
              "    }\n",
              "  </style>\n",
              "\n",
              "      <script>\n",
              "        const buttonEl =\n",
              "          document.querySelector('#df-a030827b-3b4d-4af5-b819-59e63c9b8102 button.colab-df-convert');\n",
              "        buttonEl.style.display =\n",
              "          google.colab.kernel.accessAllowed ? 'block' : 'none';\n",
              "\n",
              "        async function convertToInteractive(key) {\n",
              "          const element = document.querySelector('#df-a030827b-3b4d-4af5-b819-59e63c9b8102');\n",
              "          const dataTable =\n",
              "            await google.colab.kernel.invokeFunction('convertToInteractive',\n",
              "                                                     [key], {});\n",
              "          if (!dataTable) return;\n",
              "\n",
              "          const docLinkHtml = 'Like what you see? Visit the ' +\n",
              "            '<a target=\"_blank\" href=https://colab.research.google.com/notebooks/data_table.ipynb>data table notebook</a>'\n",
              "            + ' to learn more about interactive tables.';\n",
              "          element.innerHTML = '';\n",
              "          dataTable['output_type'] = 'display_data';\n",
              "          await google.colab.output.renderOutput(dataTable, element);\n",
              "          const docLink = document.createElement('div');\n",
              "          docLink.innerHTML = docLinkHtml;\n",
              "          element.appendChild(docLink);\n",
              "        }\n",
              "      </script>\n",
              "    </div>\n",
              "  </div>\n",
              "  "
            ],
            "text/plain": [
              "                     Test Accuracy  Test AUC\n",
              "Logistic Regression       0.968504  0.988395\n",
              "Naive Bayes               0.929134  0.973243\n",
              "Linear SVC                0.944882  0.983559"
            ]
          },
          "metadata": {},
          "execution_count": 64
        }
      ]
    },
    {
      "cell_type": "markdown",
      "source": [
        "Amongst all, Logistic Regression Model gave the best Test Accuracy and AUC both. So we will choose it to make the predictions."
      ],
      "metadata": {
        "id": "muNqLPF_I3XY"
      }
    },
    {
      "cell_type": "code",
      "source": [
        "test_predictions_df = pd.DataFrame({'Reviews':test_x.values,\n",
        "                                    'Actual Stars':test_y.values,\n",
        "                                    'Predicted Stars':logreg_clf.predict(test_tfidf)})\n",
        "test_predictions_df"
      ],
      "metadata": {
        "colab": {
          "base_uri": "https://localhost:8080/",
          "height": 424
        },
        "id": "0kms8TjxMUox",
        "outputId": "2e27650c-1c2d-4440-b5d3-6f821d339fc4"
      },
      "execution_count": 65,
      "outputs": [
        {
          "output_type": "execute_result",
          "data": {
            "text/html": [
              "\n",
              "  <div id=\"df-3b7ff35b-a806-4e55-8ee3-98c20d34900f\">\n",
              "    <div class=\"colab-df-container\">\n",
              "      <div>\n",
              "<style scoped>\n",
              "    .dataframe tbody tr th:only-of-type {\n",
              "        vertical-align: middle;\n",
              "    }\n",
              "\n",
              "    .dataframe tbody tr th {\n",
              "        vertical-align: top;\n",
              "    }\n",
              "\n",
              "    .dataframe thead th {\n",
              "        text-align: right;\n",
              "    }\n",
              "</style>\n",
              "<table border=\"1\" class=\"dataframe\">\n",
              "  <thead>\n",
              "    <tr style=\"text-align: right;\">\n",
              "      <th></th>\n",
              "      <th>Reviews</th>\n",
              "      <th>Actual Stars</th>\n",
              "      <th>Predicted Stars</th>\n",
              "    </tr>\n",
              "  </thead>\n",
              "  <tbody>\n",
              "    <tr>\n",
              "      <th>0</th>\n",
              "      <td>miserable experience screwed everything imagin...</td>\n",
              "      <td>1</td>\n",
              "      <td>1</td>\n",
              "    </tr>\n",
              "    <tr>\n",
              "      <th>1</th>\n",
              "      <td>chris waymire loan officer worked contact some...</td>\n",
              "      <td>5</td>\n",
              "      <td>5</td>\n",
              "    </tr>\n",
              "    <tr>\n",
              "      <th>2</th>\n",
              "      <td>great experience working adan munoz team dlj f...</td>\n",
              "      <td>5</td>\n",
              "      <td>5</td>\n",
              "    </tr>\n",
              "    <tr>\n",
              "      <th>3</th>\n",
              "      <td>professional customer oriented</td>\n",
              "      <td>5</td>\n",
              "      <td>5</td>\n",
              "    </tr>\n",
              "    <tr>\n",
              "      <th>4</th>\n",
              "      <td>dean huge help took call work gave undivided a...</td>\n",
              "      <td>5</td>\n",
              "      <td>5</td>\n",
              "    </tr>\n",
              "    <tr>\n",
              "      <th>...</th>\n",
              "      <td>...</td>\n",
              "      <td>...</td>\n",
              "      <td>...</td>\n",
              "    </tr>\n",
              "    <tr>\n",
              "      <th>122</th>\n",
              "      <td>loan officer happy communicate committed commi...</td>\n",
              "      <td>1</td>\n",
              "      <td>1</td>\n",
              "    </tr>\n",
              "    <tr>\n",
              "      <th>123</th>\n",
              "      <td>cant express incredibly awesome experience wor...</td>\n",
              "      <td>5</td>\n",
              "      <td>5</td>\n",
              "    </tr>\n",
              "    <tr>\n",
              "      <th>124</th>\n",
              "      <td>spoke one customer service rep wasn’t willing ...</td>\n",
              "      <td>1</td>\n",
              "      <td>1</td>\n",
              "    </tr>\n",
              "    <tr>\n",
              "      <th>125</th>\n",
              "      <td>genna englert provided excellent service proce...</td>\n",
              "      <td>5</td>\n",
              "      <td>5</td>\n",
              "    </tr>\n",
              "    <tr>\n",
              "      <th>126</th>\n",
              "      <td>started bob g ran credit check without knowled...</td>\n",
              "      <td>1</td>\n",
              "      <td>1</td>\n",
              "    </tr>\n",
              "  </tbody>\n",
              "</table>\n",
              "<p>127 rows × 3 columns</p>\n",
              "</div>\n",
              "      <button class=\"colab-df-convert\" onclick=\"convertToInteractive('df-3b7ff35b-a806-4e55-8ee3-98c20d34900f')\"\n",
              "              title=\"Convert this dataframe to an interactive table.\"\n",
              "              style=\"display:none;\">\n",
              "        \n",
              "  <svg xmlns=\"http://www.w3.org/2000/svg\" height=\"24px\"viewBox=\"0 0 24 24\"\n",
              "       width=\"24px\">\n",
              "    <path d=\"M0 0h24v24H0V0z\" fill=\"none\"/>\n",
              "    <path d=\"M18.56 5.44l.94 2.06.94-2.06 2.06-.94-2.06-.94-.94-2.06-.94 2.06-2.06.94zm-11 1L8.5 8.5l.94-2.06 2.06-.94-2.06-.94L8.5 2.5l-.94 2.06-2.06.94zm10 10l.94 2.06.94-2.06 2.06-.94-2.06-.94-.94-2.06-.94 2.06-2.06.94z\"/><path d=\"M17.41 7.96l-1.37-1.37c-.4-.4-.92-.59-1.43-.59-.52 0-1.04.2-1.43.59L10.3 9.45l-7.72 7.72c-.78.78-.78 2.05 0 2.83L4 21.41c.39.39.9.59 1.41.59.51 0 1.02-.2 1.41-.59l7.78-7.78 2.81-2.81c.8-.78.8-2.07 0-2.86zM5.41 20L4 18.59l7.72-7.72 1.47 1.35L5.41 20z\"/>\n",
              "  </svg>\n",
              "      </button>\n",
              "      \n",
              "  <style>\n",
              "    .colab-df-container {\n",
              "      display:flex;\n",
              "      flex-wrap:wrap;\n",
              "      gap: 12px;\n",
              "    }\n",
              "\n",
              "    .colab-df-convert {\n",
              "      background-color: #E8F0FE;\n",
              "      border: none;\n",
              "      border-radius: 50%;\n",
              "      cursor: pointer;\n",
              "      display: none;\n",
              "      fill: #1967D2;\n",
              "      height: 32px;\n",
              "      padding: 0 0 0 0;\n",
              "      width: 32px;\n",
              "    }\n",
              "\n",
              "    .colab-df-convert:hover {\n",
              "      background-color: #E2EBFA;\n",
              "      box-shadow: 0px 1px 2px rgba(60, 64, 67, 0.3), 0px 1px 3px 1px rgba(60, 64, 67, 0.15);\n",
              "      fill: #174EA6;\n",
              "    }\n",
              "\n",
              "    [theme=dark] .colab-df-convert {\n",
              "      background-color: #3B4455;\n",
              "      fill: #D2E3FC;\n",
              "    }\n",
              "\n",
              "    [theme=dark] .colab-df-convert:hover {\n",
              "      background-color: #434B5C;\n",
              "      box-shadow: 0px 1px 3px 1px rgba(0, 0, 0, 0.15);\n",
              "      filter: drop-shadow(0px 1px 2px rgba(0, 0, 0, 0.3));\n",
              "      fill: #FFFFFF;\n",
              "    }\n",
              "  </style>\n",
              "\n",
              "      <script>\n",
              "        const buttonEl =\n",
              "          document.querySelector('#df-3b7ff35b-a806-4e55-8ee3-98c20d34900f button.colab-df-convert');\n",
              "        buttonEl.style.display =\n",
              "          google.colab.kernel.accessAllowed ? 'block' : 'none';\n",
              "\n",
              "        async function convertToInteractive(key) {\n",
              "          const element = document.querySelector('#df-3b7ff35b-a806-4e55-8ee3-98c20d34900f');\n",
              "          const dataTable =\n",
              "            await google.colab.kernel.invokeFunction('convertToInteractive',\n",
              "                                                     [key], {});\n",
              "          if (!dataTable) return;\n",
              "\n",
              "          const docLinkHtml = 'Like what you see? Visit the ' +\n",
              "            '<a target=\"_blank\" href=https://colab.research.google.com/notebooks/data_table.ipynb>data table notebook</a>'\n",
              "            + ' to learn more about interactive tables.';\n",
              "          element.innerHTML = '';\n",
              "          dataTable['output_type'] = 'display_data';\n",
              "          await google.colab.output.renderOutput(dataTable, element);\n",
              "          const docLink = document.createElement('div');\n",
              "          docLink.innerHTML = docLinkHtml;\n",
              "          element.appendChild(docLink);\n",
              "        }\n",
              "      </script>\n",
              "    </div>\n",
              "  </div>\n",
              "  "
            ],
            "text/plain": [
              "                                               Reviews  ...  Predicted Stars\n",
              "0    miserable experience screwed everything imagin...  ...                1\n",
              "1    chris waymire loan officer worked contact some...  ...                5\n",
              "2    great experience working adan munoz team dlj f...  ...                5\n",
              "3                       professional customer oriented  ...                5\n",
              "4    dean huge help took call work gave undivided a...  ...                5\n",
              "..                                                 ...  ...              ...\n",
              "122  loan officer happy communicate committed commi...  ...                1\n",
              "123  cant express incredibly awesome experience wor...  ...                5\n",
              "124  spoke one customer service rep wasn’t willing ...  ...                1\n",
              "125  genna englert provided excellent service proce...  ...                5\n",
              "126  started bob g ran credit check without knowled...  ...                1\n",
              "\n",
              "[127 rows x 3 columns]"
            ]
          },
          "metadata": {},
          "execution_count": 65
        }
      ]
    }
  ]
}